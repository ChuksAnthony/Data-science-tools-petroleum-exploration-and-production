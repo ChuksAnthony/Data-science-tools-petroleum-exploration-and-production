{
 "cells": [
  {
   "cell_type": "markdown",
   "metadata": {},
   "source": [
    "#### PRELIMINARIES"
   ]
  },
  {
   "cell_type": "markdown",
   "metadata": {},
   "source": [
    "First we import the libraries we will need, and the data."
   ]
  },
  {
   "cell_type": "code",
   "execution_count": 1,
   "metadata": {
    "collapsed": true
   },
   "outputs": [],
   "source": [
    "import pandas as pd\n",
    "import matplotlib as mpl\n",
    "import matplotlib.pyplot as plt\n",
    "import numpy as np\n",
    "import scipy as sp\n",
    "import seaborn as sns\n",
    "import statsmodels.stats.power as sms\n",
    "import math\n",
    "\n",
    "%matplotlib inline"
   ]
  },
  {
   "cell_type": "code",
   "execution_count": 2,
   "metadata": {
    "collapsed": true
   },
   "outputs": [],
   "source": [
    "data = pd.read_csv('Table2_Hunt_2013_edit.csv')"
   ]
  },
  {
   "cell_type": "code",
   "execution_count": 3,
   "metadata": {},
   "outputs": [
    {
     "data": {
      "text/html": [
       "<div>\n",
       "<style scoped>\n",
       "    .dataframe tbody tr th:only-of-type {\n",
       "        vertical-align: middle;\n",
       "    }\n",
       "\n",
       "    .dataframe tbody tr th {\n",
       "        vertical-align: top;\n",
       "    }\n",
       "\n",
       "    .dataframe thead th {\n",
       "        text-align: right;\n",
       "    }\n",
       "</style>\n",
       "<table border=\"1\" class=\"dataframe\">\n",
       "  <thead>\n",
       "    <tr style=\"text-align: right;\">\n",
       "      <th></th>\n",
       "      <th>Gross pay</th>\n",
       "      <th>Phi-h</th>\n",
       "      <th>Position</th>\n",
       "      <th>Pressure</th>\n",
       "      <th>Random 1</th>\n",
       "      <th>Random 2</th>\n",
       "      <th>Gross pay transform</th>\n",
       "      <th>Production</th>\n",
       "    </tr>\n",
       "  </thead>\n",
       "  <tbody>\n",
       "    <tr>\n",
       "      <th>0</th>\n",
       "      <td>0.1</td>\n",
       "      <td>0.5</td>\n",
       "      <td>2.1</td>\n",
       "      <td>19</td>\n",
       "      <td>5</td>\n",
       "      <td>379</td>\n",
       "      <td>3.54</td>\n",
       "      <td>15.10</td>\n",
       "    </tr>\n",
       "    <tr>\n",
       "      <th>1</th>\n",
       "      <td>1.0</td>\n",
       "      <td>4.0</td>\n",
       "      <td>1.1</td>\n",
       "      <td>16</td>\n",
       "      <td>13</td>\n",
       "      <td>269</td>\n",
       "      <td>5.79</td>\n",
       "      <td>21.30</td>\n",
       "    </tr>\n",
       "    <tr>\n",
       "      <th>2</th>\n",
       "      <td>1.9</td>\n",
       "      <td>19.0</td>\n",
       "      <td>1.0</td>\n",
       "      <td>14</td>\n",
       "      <td>12</td>\n",
       "      <td>245</td>\n",
       "      <td>8.51</td>\n",
       "      <td>22.75</td>\n",
       "    </tr>\n",
       "    <tr>\n",
       "      <th>3</th>\n",
       "      <td>3.1</td>\n",
       "      <td>21.7</td>\n",
       "      <td>2.1</td>\n",
       "      <td>17</td>\n",
       "      <td>6</td>\n",
       "      <td>273</td>\n",
       "      <td>11.52</td>\n",
       "      <td>15.72</td>\n",
       "    </tr>\n",
       "    <tr>\n",
       "      <th>4</th>\n",
       "      <td>4.1</td>\n",
       "      <td>24.6</td>\n",
       "      <td>2.9</td>\n",
       "      <td>11</td>\n",
       "      <td>10</td>\n",
       "      <td>237</td>\n",
       "      <td>10.16</td>\n",
       "      <td>7.71</td>\n",
       "    </tr>\n",
       "  </tbody>\n",
       "</table>\n",
       "</div>"
      ],
      "text/plain": [
       "   Gross pay  Phi-h  Position  Pressure  Random 1  Random 2  \\\n",
       "0        0.1    0.5       2.1        19         5       379   \n",
       "1        1.0    4.0       1.1        16        13       269   \n",
       "2        1.9   19.0       1.0        14        12       245   \n",
       "3        3.1   21.7       2.1        17         6       273   \n",
       "4        4.1   24.6       2.9        11        10       237   \n",
       "\n",
       "   Gross pay transform  Production  \n",
       "0                 3.54       15.10  \n",
       "1                 5.79       21.30  \n",
       "2                 8.51       22.75  \n",
       "3                11.52       15.72  \n",
       "4                10.16        7.71  "
      ]
     },
     "execution_count": 3,
     "metadata": {},
     "output_type": "execute_result"
    }
   ],
   "source": [
    "data.head()"
   ]
  },
  {
   "cell_type": "code",
   "execution_count": 4,
   "metadata": {},
   "outputs": [
    {
     "data": {
      "text/plain": [
       "0.8688311688311688"
      ]
     },
     "execution_count": 4,
     "metadata": {},
     "output_type": "execute_result"
    }
   ],
   "source": [
    "data['Gross pay'].corr(data['Production'], method = 'spearman') "
   ]
  },
  {
   "cell_type": "code",
   "execution_count": 5,
   "metadata": {},
   "outputs": [
    {
     "name": "stdout",
     "output_type": "stream",
     "text": [
      "0.9663037700129194\n"
     ]
    }
   ],
   "source": [
    "powerGP= sms.tt_solve_power(effect_size = 0.87, nobs = 21, alpha = 0.05,  alternative = \"two-sided\")\n",
    "print (powerGP)"
   ]
  },
  {
   "cell_type": "code",
   "execution_count": 6,
   "metadata": {},
   "outputs": [
    {
     "data": {
      "text/plain": [
       "0.11730280626534337"
      ]
     },
     "execution_count": 6,
     "metadata": {},
     "output_type": "execute_result"
    }
   ],
   "source": [
    "data['Random 1'].corr(data['Production'], method = 'spearman') "
   ]
  },
  {
   "cell_type": "code",
   "execution_count": 7,
   "metadata": {},
   "outputs": [
    {
     "name": "stdout",
     "output_type": "stream",
     "text": [
      "0.08199799231853767\n"
     ]
    }
   ],
   "source": [
    "powerR1= sms.tt_solve_power(effect_size = 0.12, nobs = 21, alpha = 0.05,  alternative = \"two-sided\")\n",
    "print (powerR1)"
   ]
  },
  {
   "cell_type": "markdown",
   "metadata": {},
   "source": [
    "### Test of using the function to calculate minimum number of wells to get confidence interval of a specific width"
   ]
  },
  {
   "cell_type": "raw",
   "metadata": {},
   "source": [
    "def confInt(r, nwells):\n",
    "    z_crit = sp.stats.norm.ppf(.9) # notice change of confidence level\n",
    "    std_Z = 1/np.sqrt(nwells-3)\n",
    "    E = z_crit*std_Z\n",
    "    Z_star = 0.5*(np.log((1+r)/(1.0000000000001-r)))\n",
    "    ZCI_l = Z_star - E\n",
    "    ZCI_u = Z_star + E\n",
    "    RCI_l = (np.exp(2*ZCI_l)-1)/(np.exp(2*ZCI_l)+1)\n",
    "    RCI_u = (np.exp(2*ZCI_u)-1)/(np.exp(2*ZCI_u)+1)\n",
    "    return RCI_u, RCI_l"
   ]
  },
  {
   "cell_type": "raw",
   "metadata": {},
   "source": [
    "np.set_printoptions(precision=2)\n",
    "w = np.arange(6, 150, 1)\n",
    "cm_r06= confInt(0.6, w) \n",
    "print (cm_r06)"
   ]
  },
  {
   "cell_type": "raw",
   "metadata": {},
   "source": [
    "cm_r06[0]-cm_r06[1]"
   ]
  },
  {
   "cell_type": "raw",
   "metadata": {},
   "source": [
    "idx = np.argmax((cm_r06[0]-cm_r06[1])<=0.2)\n",
    "cmin = w[idx]\n",
    "print (idx, cmin)"
   ]
  }
 ],
 "metadata": {
  "anaconda-cloud": {},
  "kernelspec": {
   "display_name": "Python [conda env:py36]",
   "language": "python",
   "name": "conda-env-py36-py"
  },
  "language_info": {
   "codemirror_mode": {
    "name": "ipython",
    "version": 3
   },
   "file_extension": ".py",
   "mimetype": "text/x-python",
   "name": "python",
   "nbconvert_exporter": "python",
   "pygments_lexer": "ipython3",
   "version": "3.6.5"
  }
 },
 "nbformat": 4,
 "nbformat_minor": 2
}
