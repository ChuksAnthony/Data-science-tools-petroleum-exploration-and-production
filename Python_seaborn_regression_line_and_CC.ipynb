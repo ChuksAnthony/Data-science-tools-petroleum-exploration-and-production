{
 "cells": [
  {
   "cell_type": "markdown",
   "metadata": {},
   "source": [
    "#### PRELIMINARIES"
   ]
  },
  {
   "cell_type": "markdown",
   "metadata": {},
   "source": [
    "First we import the libraries we will need, and the data."
   ]
  },
  {
   "cell_type": "code",
   "execution_count": 1,
   "metadata": {},
   "outputs": [
    {
     "name": "stderr",
     "output_type": "stream",
     "text": [
      "/anaconda2/envs/py36/lib/python3.6/site-packages/statsmodels/compat/pandas.py:56: FutureWarning: The pandas.core.datetools module is deprecated and will be removed in a future version. Please use the pandas.tseries module instead.\n",
      "  from pandas.core import datetools\n"
     ]
    }
   ],
   "source": [
    "import matplotlib.pyplot as plt\n",
    "import numpy as np\n",
    "import scipy as sp\n",
    "import pandas as pd\n",
    "import seaborn as sns\n",
    "import statsmodels.api as sm\n",
    "\n",
    "%matplotlib inline"
   ]
  },
  {
   "cell_type": "markdown",
   "metadata": {},
   "source": [
    "#### Import data"
   ]
  },
  {
   "cell_type": "code",
   "execution_count": 2,
   "metadata": {
    "collapsed": true
   },
   "outputs": [],
   "source": [
    "data = pd.read_csv('Table2_Hunt_2013_edit.csv')\n",
    "data = data.drop(['Random 1', 'Random 2', 'Gross pay transform'],  axis=1)"
   ]
  },
  {
   "cell_type": "code",
   "execution_count": 3,
   "metadata": {},
   "outputs": [
    {
     "data": {
      "text/html": [
       "<div>\n",
       "<style scoped>\n",
       "    .dataframe tbody tr th:only-of-type {\n",
       "        vertical-align: middle;\n",
       "    }\n",
       "\n",
       "    .dataframe tbody tr th {\n",
       "        vertical-align: top;\n",
       "    }\n",
       "\n",
       "    .dataframe thead th {\n",
       "        text-align: right;\n",
       "    }\n",
       "</style>\n",
       "<table border=\"1\" class=\"dataframe\">\n",
       "  <thead>\n",
       "    <tr style=\"text-align: right;\">\n",
       "      <th></th>\n",
       "      <th>Gross pay</th>\n",
       "      <th>Phi-h</th>\n",
       "      <th>Position</th>\n",
       "      <th>Pressure</th>\n",
       "      <th>Production</th>\n",
       "    </tr>\n",
       "  </thead>\n",
       "  <tbody>\n",
       "    <tr>\n",
       "      <th>0</th>\n",
       "      <td>0.1</td>\n",
       "      <td>0.5</td>\n",
       "      <td>2.1</td>\n",
       "      <td>19</td>\n",
       "      <td>15.10</td>\n",
       "    </tr>\n",
       "    <tr>\n",
       "      <th>1</th>\n",
       "      <td>1.0</td>\n",
       "      <td>4.0</td>\n",
       "      <td>1.1</td>\n",
       "      <td>16</td>\n",
       "      <td>21.30</td>\n",
       "    </tr>\n",
       "    <tr>\n",
       "      <th>2</th>\n",
       "      <td>1.9</td>\n",
       "      <td>19.0</td>\n",
       "      <td>1.0</td>\n",
       "      <td>14</td>\n",
       "      <td>22.75</td>\n",
       "    </tr>\n",
       "    <tr>\n",
       "      <th>3</th>\n",
       "      <td>3.1</td>\n",
       "      <td>21.7</td>\n",
       "      <td>2.1</td>\n",
       "      <td>17</td>\n",
       "      <td>15.72</td>\n",
       "    </tr>\n",
       "    <tr>\n",
       "      <th>4</th>\n",
       "      <td>4.1</td>\n",
       "      <td>24.6</td>\n",
       "      <td>2.9</td>\n",
       "      <td>11</td>\n",
       "      <td>7.71</td>\n",
       "    </tr>\n",
       "    <tr>\n",
       "      <th>5</th>\n",
       "      <td>4.9</td>\n",
       "      <td>39.2</td>\n",
       "      <td>1.1</td>\n",
       "      <td>12</td>\n",
       "      <td>22.67</td>\n",
       "    </tr>\n",
       "    <tr>\n",
       "      <th>6</th>\n",
       "      <td>5.9</td>\n",
       "      <td>23.6</td>\n",
       "      <td>2.1</td>\n",
       "      <td>13</td>\n",
       "      <td>18.11</td>\n",
       "    </tr>\n",
       "    <tr>\n",
       "      <th>7</th>\n",
       "      <td>7.0</td>\n",
       "      <td>63.0</td>\n",
       "      <td>2.0</td>\n",
       "      <td>13</td>\n",
       "      <td>24.30</td>\n",
       "    </tr>\n",
       "    <tr>\n",
       "      <th>8</th>\n",
       "      <td>8.1</td>\n",
       "      <td>72.9</td>\n",
       "      <td>2.9</td>\n",
       "      <td>14</td>\n",
       "      <td>24.04</td>\n",
       "    </tr>\n",
       "    <tr>\n",
       "      <th>9</th>\n",
       "      <td>8.9</td>\n",
       "      <td>35.6</td>\n",
       "      <td>2.8</td>\n",
       "      <td>16</td>\n",
       "      <td>25.11</td>\n",
       "    </tr>\n",
       "    <tr>\n",
       "      <th>10</th>\n",
       "      <td>10.0</td>\n",
       "      <td>100.0</td>\n",
       "      <td>2.2</td>\n",
       "      <td>16</td>\n",
       "      <td>36.80</td>\n",
       "    </tr>\n",
       "    <tr>\n",
       "      <th>11</th>\n",
       "      <td>11.1</td>\n",
       "      <td>77.7</td>\n",
       "      <td>2.0</td>\n",
       "      <td>14</td>\n",
       "      <td>36.42</td>\n",
       "    </tr>\n",
       "    <tr>\n",
       "      <th>12</th>\n",
       "      <td>11.9</td>\n",
       "      <td>71.4</td>\n",
       "      <td>2.9</td>\n",
       "      <td>20</td>\n",
       "      <td>39.59</td>\n",
       "    </tr>\n",
       "    <tr>\n",
       "      <th>13</th>\n",
       "      <td>13.0</td>\n",
       "      <td>117.0</td>\n",
       "      <td>1.1</td>\n",
       "      <td>16</td>\n",
       "      <td>51.60</td>\n",
       "    </tr>\n",
       "    <tr>\n",
       "      <th>14</th>\n",
       "      <td>14.1</td>\n",
       "      <td>141.0</td>\n",
       "      <td>1.2</td>\n",
       "      <td>14</td>\n",
       "      <td>48.05</td>\n",
       "    </tr>\n",
       "    <tr>\n",
       "      <th>15</th>\n",
       "      <td>15.1</td>\n",
       "      <td>105.7</td>\n",
       "      <td>1.0</td>\n",
       "      <td>17</td>\n",
       "      <td>51.72</td>\n",
       "    </tr>\n",
       "    <tr>\n",
       "      <th>16</th>\n",
       "      <td>15.9</td>\n",
       "      <td>79.5</td>\n",
       "      <td>1.1</td>\n",
       "      <td>20</td>\n",
       "      <td>59.20</td>\n",
       "    </tr>\n",
       "    <tr>\n",
       "      <th>17</th>\n",
       "      <td>16.0</td>\n",
       "      <td>160.0</td>\n",
       "      <td>1.2</td>\n",
       "      <td>17</td>\n",
       "      <td>58.30</td>\n",
       "    </tr>\n",
       "    <tr>\n",
       "      <th>18</th>\n",
       "      <td>17.1</td>\n",
       "      <td>85.5</td>\n",
       "      <td>1.9</td>\n",
       "      <td>14</td>\n",
       "      <td>41.80</td>\n",
       "    </tr>\n",
       "    <tr>\n",
       "      <th>19</th>\n",
       "      <td>18.0</td>\n",
       "      <td>90.0</td>\n",
       "      <td>2.8</td>\n",
       "      <td>18</td>\n",
       "      <td>44.20</td>\n",
       "    </tr>\n",
       "    <tr>\n",
       "      <th>20</th>\n",
       "      <td>19.1</td>\n",
       "      <td>114.6</td>\n",
       "      <td>2.1</td>\n",
       "      <td>10</td>\n",
       "      <td>37.51</td>\n",
       "    </tr>\n",
       "  </tbody>\n",
       "</table>\n",
       "</div>"
      ],
      "text/plain": [
       "    Gross pay  Phi-h  Position  Pressure  Production\n",
       "0         0.1    0.5       2.1        19       15.10\n",
       "1         1.0    4.0       1.1        16       21.30\n",
       "2         1.9   19.0       1.0        14       22.75\n",
       "3         3.1   21.7       2.1        17       15.72\n",
       "4         4.1   24.6       2.9        11        7.71\n",
       "5         4.9   39.2       1.1        12       22.67\n",
       "6         5.9   23.6       2.1        13       18.11\n",
       "7         7.0   63.0       2.0        13       24.30\n",
       "8         8.1   72.9       2.9        14       24.04\n",
       "9         8.9   35.6       2.8        16       25.11\n",
       "10       10.0  100.0       2.2        16       36.80\n",
       "11       11.1   77.7       2.0        14       36.42\n",
       "12       11.9   71.4       2.9        20       39.59\n",
       "13       13.0  117.0       1.1        16       51.60\n",
       "14       14.1  141.0       1.2        14       48.05\n",
       "15       15.1  105.7       1.0        17       51.72\n",
       "16       15.9   79.5       1.1        20       59.20\n",
       "17       16.0  160.0       1.2        17       58.30\n",
       "18       17.1   85.5       1.9        14       41.80\n",
       "19       18.0   90.0       2.8        18       44.20\n",
       "20       19.1  114.6       2.1        10       37.51"
      ]
     },
     "execution_count": 3,
     "metadata": {},
     "output_type": "execute_result"
    }
   ],
   "source": [
    "data"
   ]
  },
  {
   "cell_type": "markdown",
   "metadata": {},
   "source": [
    "A quick summary of the data (count row) shows there are no missing data points."
   ]
  },
  {
   "cell_type": "code",
   "execution_count": 4,
   "metadata": {
    "scrolled": true
   },
   "outputs": [
    {
     "data": {
      "text/html": [
       "<div>\n",
       "<style scoped>\n",
       "    .dataframe tbody tr th:only-of-type {\n",
       "        vertical-align: middle;\n",
       "    }\n",
       "\n",
       "    .dataframe tbody tr th {\n",
       "        vertical-align: top;\n",
       "    }\n",
       "\n",
       "    .dataframe thead th {\n",
       "        text-align: right;\n",
       "    }\n",
       "</style>\n",
       "<table border=\"1\" class=\"dataframe\">\n",
       "  <thead>\n",
       "    <tr style=\"text-align: right;\">\n",
       "      <th></th>\n",
       "      <th>Gross pay</th>\n",
       "      <th>Phi-h</th>\n",
       "      <th>Position</th>\n",
       "      <th>Pressure</th>\n",
       "      <th>Production</th>\n",
       "    </tr>\n",
       "  </thead>\n",
       "  <tbody>\n",
       "    <tr>\n",
       "      <th>count</th>\n",
       "      <td>21.000000</td>\n",
       "      <td>21.000000</td>\n",
       "      <td>21.000000</td>\n",
       "      <td>21.000000</td>\n",
       "      <td>21.000000</td>\n",
       "    </tr>\n",
       "    <tr>\n",
       "      <th>mean</th>\n",
       "      <td>9.823810</td>\n",
       "      <td>68.880952</td>\n",
       "      <td>1.885714</td>\n",
       "      <td>15.285714</td>\n",
       "      <td>33.428571</td>\n",
       "    </tr>\n",
       "    <tr>\n",
       "      <th>std</th>\n",
       "      <td>5.948521</td>\n",
       "      <td>45.167894</td>\n",
       "      <td>0.708721</td>\n",
       "      <td>2.759400</td>\n",
       "      <td>15.141909</td>\n",
       "    </tr>\n",
       "    <tr>\n",
       "      <th>min</th>\n",
       "      <td>0.100000</td>\n",
       "      <td>0.500000</td>\n",
       "      <td>1.000000</td>\n",
       "      <td>10.000000</td>\n",
       "      <td>7.710000</td>\n",
       "    </tr>\n",
       "    <tr>\n",
       "      <th>25%</th>\n",
       "      <td>4.900000</td>\n",
       "      <td>24.600000</td>\n",
       "      <td>1.100000</td>\n",
       "      <td>14.000000</td>\n",
       "      <td>22.670000</td>\n",
       "    </tr>\n",
       "    <tr>\n",
       "      <th>50%</th>\n",
       "      <td>10.000000</td>\n",
       "      <td>72.900000</td>\n",
       "      <td>2.000000</td>\n",
       "      <td>16.000000</td>\n",
       "      <td>36.420000</td>\n",
       "    </tr>\n",
       "    <tr>\n",
       "      <th>75%</th>\n",
       "      <td>15.100000</td>\n",
       "      <td>100.000000</td>\n",
       "      <td>2.200000</td>\n",
       "      <td>17.000000</td>\n",
       "      <td>44.200000</td>\n",
       "    </tr>\n",
       "    <tr>\n",
       "      <th>max</th>\n",
       "      <td>19.100000</td>\n",
       "      <td>160.000000</td>\n",
       "      <td>2.900000</td>\n",
       "      <td>20.000000</td>\n",
       "      <td>59.200000</td>\n",
       "    </tr>\n",
       "  </tbody>\n",
       "</table>\n",
       "</div>"
      ],
      "text/plain": [
       "       Gross pay       Phi-h   Position   Pressure  Production\n",
       "count  21.000000   21.000000  21.000000  21.000000   21.000000\n",
       "mean    9.823810   68.880952   1.885714  15.285714   33.428571\n",
       "std     5.948521   45.167894   0.708721   2.759400   15.141909\n",
       "min     0.100000    0.500000   1.000000  10.000000    7.710000\n",
       "25%     4.900000   24.600000   1.100000  14.000000   22.670000\n",
       "50%    10.000000   72.900000   2.000000  16.000000   36.420000\n",
       "75%    15.100000  100.000000   2.200000  17.000000   44.200000\n",
       "max    19.100000  160.000000   2.900000  20.000000   59.200000"
      ]
     },
     "execution_count": 4,
     "metadata": {},
     "output_type": "execute_result"
    }
   ],
   "source": [
    "data.describe()"
   ]
  },
  {
   "cell_type": "markdown",
   "metadata": {},
   "source": [
    "We can also explicitly test to ensure data does not have no missing measurements."
   ]
  },
  {
   "cell_type": "code",
   "execution_count": 5,
   "metadata": {},
   "outputs": [
    {
     "data": {
      "text/plain": [
       "False"
      ]
     },
     "execution_count": 5,
     "metadata": {},
     "output_type": "execute_result"
    }
   ],
   "source": [
    "data.isnull().values.any()"
   ]
  },
  {
   "cell_type": "markdown",
   "metadata": {},
   "source": [
    "#### Linear regression in Seaborn with correlation coefficient shown"
   ]
  },
  {
   "cell_type": "code",
   "execution_count": 6,
   "metadata": {
    "collapsed": true
   },
   "outputs": [],
   "source": [
    "def corrfunc(x, y, **kws):\n",
    "    _, _, cc, _, err = sp.stats.linregress(x, y)\n",
    "    ax = plt.gca()\n",
    "    ax.annotate(\"CC = {:.2f}\".format(cc),\n",
    "                xy=(.1, .9), xycoords=ax.transAxes, fontsize = 22, color = 'darkblue')"
   ]
  },
  {
   "cell_type": "code",
   "execution_count": 7,
   "metadata": {
    "collapsed": true
   },
   "outputs": [
    {
     "data": {
      "image/png": "[encoded data removed]",
      "text/plain": [
       "<Figure size 1008x504 with 2 Axes>"
      ]
     },
     "metadata": {},
     "output_type": "display_data"
    }
   ],
   "source": [
    "sns.set(font_scale=2.2)\n",
    "g = sns.PairGrid(data, y_vars=[\"Production\"], x_vars=['Gross pay', 'Pressure'],  size=7);\n",
    "g.map(sns.regplot, color=\"darkblue\");\n",
    "g.map(corrfunc);\n",
    "plt.savefig('GP_Press_sns_pairgrid.png', dpi=300, bbox_inches='tight', pad_inches=0.1)"
   ]
  },
  {
   "cell_type": "code",
   "execution_count": null,
   "metadata": {
    "collapsed": true
   },
   "outputs": [],
   "source": []
  }
 ],
 "metadata": {
  "anaconda-cloud": {},
  "kernelspec": {
   "display_name": "Python [conda env:py36]",
   "language": "python",
   "name": "conda-env-py36-py"
  },
  "language_info": {
   "codemirror_mode": {
    "name": "ipython",
    "version": 3
   },
   "file_extension": ".py",
   "mimetype": "text/x-python",
   "name": "python",
   "nbconvert_exporter": "python",
   "pygments_lexer": "ipython3",
   "version": "3.6.5"
  }
 },
 "nbformat": 4,
 "nbformat_minor": 2
}
