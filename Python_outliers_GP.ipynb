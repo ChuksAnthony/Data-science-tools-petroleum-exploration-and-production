{
 "cells": [
  {
   "cell_type": "markdown",
   "metadata": {},
   "source": [
    "#### PRELIMINARIES"
   ]
  },
  {
   "cell_type": "markdown",
   "metadata": {},
   "source": [
    "First we import the libraries we will need, and the data."
   ]
  },
  {
   "cell_type": "code",
   "execution_count": 1,
   "metadata": {},
   "outputs": [
    {
     "name": "stderr",
     "output_type": "stream",
     "text": [
      "/anaconda2/envs/py36/lib/python3.6/site-packages/statsmodels/compat/pandas.py:56: FutureWarning: The pandas.core.datetools module is deprecated and will be removed in a future version. Please use the pandas.tseries module instead.\n",
      "  from pandas.core import datetools\n"
     ]
    }
   ],
   "source": [
    "import pandas as pd\n",
    "import matplotlib.pyplot as plt\n",
    "import numpy as np\n",
    "import scipy as sp\n",
    "import seaborn as sns\n",
    "import statsmodels.api as sm\n",
    "from matplotlib import rc\n",
    "%matplotlib inline"
   ]
  },
  {
   "cell_type": "code",
   "execution_count": 2,
   "metadata": {},
   "outputs": [],
   "source": [
    "font = {'size'   : 18}\n",
    "rc('font', **font)"
   ]
  },
  {
   "cell_type": "markdown",
   "metadata": {},
   "source": [
    "#### Import data"
   ]
  },
  {
   "cell_type": "code",
   "execution_count": 3,
   "metadata": {
    "collapsed": true
   },
   "outputs": [],
   "source": [
    "data = pd.read_csv('Table2_Hunt_2013_edit.csv')\n",
    "data = data.drop(['Random 1', 'Random 2', 'Gross pay transform'],  axis=1)"
   ]
  },
  {
   "cell_type": "code",
   "execution_count": 4,
   "metadata": {},
   "outputs": [
    {
     "data": {
      "text/html": [
       "<div>\n",
       "<style scoped>\n",
       "    .dataframe tbody tr th:only-of-type {\n",
       "        vertical-align: middle;\n",
       "    }\n",
       "\n",
       "    .dataframe tbody tr th {\n",
       "        vertical-align: top;\n",
       "    }\n",
       "\n",
       "    .dataframe thead th {\n",
       "        text-align: right;\n",
       "    }\n",
       "</style>\n",
       "<table border=\"1\" class=\"dataframe\">\n",
       "  <thead>\n",
       "    <tr style=\"text-align: right;\">\n",
       "      <th></th>\n",
       "      <th>Gross pay</th>\n",
       "      <th>Phi-h</th>\n",
       "      <th>Position</th>\n",
       "      <th>Pressure</th>\n",
       "      <th>Production</th>\n",
       "    </tr>\n",
       "  </thead>\n",
       "  <tbody>\n",
       "    <tr>\n",
       "      <th>0</th>\n",
       "      <td>0.1</td>\n",
       "      <td>0.5</td>\n",
       "      <td>2.1</td>\n",
       "      <td>19</td>\n",
       "      <td>15.10</td>\n",
       "    </tr>\n",
       "    <tr>\n",
       "      <th>1</th>\n",
       "      <td>1.0</td>\n",
       "      <td>4.0</td>\n",
       "      <td>1.1</td>\n",
       "      <td>16</td>\n",
       "      <td>21.30</td>\n",
       "    </tr>\n",
       "    <tr>\n",
       "      <th>2</th>\n",
       "      <td>1.9</td>\n",
       "      <td>19.0</td>\n",
       "      <td>1.0</td>\n",
       "      <td>14</td>\n",
       "      <td>22.75</td>\n",
       "    </tr>\n",
       "    <tr>\n",
       "      <th>3</th>\n",
       "      <td>3.1</td>\n",
       "      <td>21.7</td>\n",
       "      <td>2.1</td>\n",
       "      <td>17</td>\n",
       "      <td>15.72</td>\n",
       "    </tr>\n",
       "    <tr>\n",
       "      <th>4</th>\n",
       "      <td>4.1</td>\n",
       "      <td>24.6</td>\n",
       "      <td>2.9</td>\n",
       "      <td>11</td>\n",
       "      <td>7.71</td>\n",
       "    </tr>\n",
       "    <tr>\n",
       "      <th>5</th>\n",
       "      <td>4.9</td>\n",
       "      <td>39.2</td>\n",
       "      <td>1.1</td>\n",
       "      <td>12</td>\n",
       "      <td>22.67</td>\n",
       "    </tr>\n",
       "    <tr>\n",
       "      <th>6</th>\n",
       "      <td>5.9</td>\n",
       "      <td>23.6</td>\n",
       "      <td>2.1</td>\n",
       "      <td>13</td>\n",
       "      <td>18.11</td>\n",
       "    </tr>\n",
       "    <tr>\n",
       "      <th>7</th>\n",
       "      <td>7.0</td>\n",
       "      <td>63.0</td>\n",
       "      <td>2.0</td>\n",
       "      <td>13</td>\n",
       "      <td>24.30</td>\n",
       "    </tr>\n",
       "    <tr>\n",
       "      <th>8</th>\n",
       "      <td>8.1</td>\n",
       "      <td>72.9</td>\n",
       "      <td>2.9</td>\n",
       "      <td>14</td>\n",
       "      <td>24.04</td>\n",
       "    </tr>\n",
       "    <tr>\n",
       "      <th>9</th>\n",
       "      <td>8.9</td>\n",
       "      <td>35.6</td>\n",
       "      <td>2.8</td>\n",
       "      <td>16</td>\n",
       "      <td>25.11</td>\n",
       "    </tr>\n",
       "    <tr>\n",
       "      <th>10</th>\n",
       "      <td>10.0</td>\n",
       "      <td>100.0</td>\n",
       "      <td>2.2</td>\n",
       "      <td>16</td>\n",
       "      <td>36.80</td>\n",
       "    </tr>\n",
       "    <tr>\n",
       "      <th>11</th>\n",
       "      <td>11.1</td>\n",
       "      <td>77.7</td>\n",
       "      <td>2.0</td>\n",
       "      <td>14</td>\n",
       "      <td>36.42</td>\n",
       "    </tr>\n",
       "    <tr>\n",
       "      <th>12</th>\n",
       "      <td>11.9</td>\n",
       "      <td>71.4</td>\n",
       "      <td>2.9</td>\n",
       "      <td>20</td>\n",
       "      <td>39.59</td>\n",
       "    </tr>\n",
       "    <tr>\n",
       "      <th>13</th>\n",
       "      <td>13.0</td>\n",
       "      <td>117.0</td>\n",
       "      <td>1.1</td>\n",
       "      <td>16</td>\n",
       "      <td>51.60</td>\n",
       "    </tr>\n",
       "    <tr>\n",
       "      <th>14</th>\n",
       "      <td>14.1</td>\n",
       "      <td>141.0</td>\n",
       "      <td>1.2</td>\n",
       "      <td>14</td>\n",
       "      <td>48.05</td>\n",
       "    </tr>\n",
       "    <tr>\n",
       "      <th>15</th>\n",
       "      <td>15.1</td>\n",
       "      <td>105.7</td>\n",
       "      <td>1.0</td>\n",
       "      <td>17</td>\n",
       "      <td>51.72</td>\n",
       "    </tr>\n",
       "    <tr>\n",
       "      <th>16</th>\n",
       "      <td>15.9</td>\n",
       "      <td>79.5</td>\n",
       "      <td>1.1</td>\n",
       "      <td>20</td>\n",
       "      <td>59.20</td>\n",
       "    </tr>\n",
       "    <tr>\n",
       "      <th>17</th>\n",
       "      <td>16.0</td>\n",
       "      <td>160.0</td>\n",
       "      <td>1.2</td>\n",
       "      <td>17</td>\n",
       "      <td>58.30</td>\n",
       "    </tr>\n",
       "    <tr>\n",
       "      <th>18</th>\n",
       "      <td>17.1</td>\n",
       "      <td>85.5</td>\n",
       "      <td>1.9</td>\n",
       "      <td>14</td>\n",
       "      <td>41.80</td>\n",
       "    </tr>\n",
       "    <tr>\n",
       "      <th>19</th>\n",
       "      <td>18.0</td>\n",
       "      <td>90.0</td>\n",
       "      <td>2.8</td>\n",
       "      <td>18</td>\n",
       "      <td>44.20</td>\n",
       "    </tr>\n",
       "    <tr>\n",
       "      <th>20</th>\n",
       "      <td>19.1</td>\n",
       "      <td>114.6</td>\n",
       "      <td>2.1</td>\n",
       "      <td>10</td>\n",
       "      <td>37.51</td>\n",
       "    </tr>\n",
       "  </tbody>\n",
       "</table>\n",
       "</div>"
      ],
      "text/plain": [
       "    Gross pay  Phi-h  Position  Pressure  Production\n",
       "0         0.1    0.5       2.1        19       15.10\n",
       "1         1.0    4.0       1.1        16       21.30\n",
       "2         1.9   19.0       1.0        14       22.75\n",
       "3         3.1   21.7       2.1        17       15.72\n",
       "4         4.1   24.6       2.9        11        7.71\n",
       "5         4.9   39.2       1.1        12       22.67\n",
       "6         5.9   23.6       2.1        13       18.11\n",
       "7         7.0   63.0       2.0        13       24.30\n",
       "8         8.1   72.9       2.9        14       24.04\n",
       "9         8.9   35.6       2.8        16       25.11\n",
       "10       10.0  100.0       2.2        16       36.80\n",
       "11       11.1   77.7       2.0        14       36.42\n",
       "12       11.9   71.4       2.9        20       39.59\n",
       "13       13.0  117.0       1.1        16       51.60\n",
       "14       14.1  141.0       1.2        14       48.05\n",
       "15       15.1  105.7       1.0        17       51.72\n",
       "16       15.9   79.5       1.1        20       59.20\n",
       "17       16.0  160.0       1.2        17       58.30\n",
       "18       17.1   85.5       1.9        14       41.80\n",
       "19       18.0   90.0       2.8        18       44.20\n",
       "20       19.1  114.6       2.1        10       37.51"
      ]
     },
     "execution_count": 4,
     "metadata": {},
     "output_type": "execute_result"
    }
   ],
   "source": [
    "data"
   ]
  },
  {
   "cell_type": "markdown",
   "metadata": {},
   "source": [
    "A quick summary of the data (count row) shows there are no missing data points."
   ]
  },
  {
   "cell_type": "code",
   "execution_count": 5,
   "metadata": {
    "scrolled": true
   },
   "outputs": [
    {
     "data": {
      "text/html": [
       "<div>\n",
       "<style scoped>\n",
       "    .dataframe tbody tr th:only-of-type {\n",
       "        vertical-align: middle;\n",
       "    }\n",
       "\n",
       "    .dataframe tbody tr th {\n",
       "        vertical-align: top;\n",
       "    }\n",
       "\n",
       "    .dataframe thead th {\n",
       "        text-align: right;\n",
       "    }\n",
       "</style>\n",
       "<table border=\"1\" class=\"dataframe\">\n",
       "  <thead>\n",
       "    <tr style=\"text-align: right;\">\n",
       "      <th></th>\n",
       "      <th>Gross pay</th>\n",
       "      <th>Phi-h</th>\n",
       "      <th>Position</th>\n",
       "      <th>Pressure</th>\n",
       "      <th>Production</th>\n",
       "    </tr>\n",
       "  </thead>\n",
       "  <tbody>\n",
       "    <tr>\n",
       "      <th>count</th>\n",
       "      <td>21.000000</td>\n",
       "      <td>21.000000</td>\n",
       "      <td>21.000000</td>\n",
       "      <td>21.000000</td>\n",
       "      <td>21.000000</td>\n",
       "    </tr>\n",
       "    <tr>\n",
       "      <th>mean</th>\n",
       "      <td>9.823810</td>\n",
       "      <td>68.880952</td>\n",
       "      <td>1.885714</td>\n",
       "      <td>15.285714</td>\n",
       "      <td>33.428571</td>\n",
       "    </tr>\n",
       "    <tr>\n",
       "      <th>std</th>\n",
       "      <td>5.948521</td>\n",
       "      <td>45.167894</td>\n",
       "      <td>0.708721</td>\n",
       "      <td>2.759400</td>\n",
       "      <td>15.141909</td>\n",
       "    </tr>\n",
       "    <tr>\n",
       "      <th>min</th>\n",
       "      <td>0.100000</td>\n",
       "      <td>0.500000</td>\n",
       "      <td>1.000000</td>\n",
       "      <td>10.000000</td>\n",
       "      <td>7.710000</td>\n",
       "    </tr>\n",
       "    <tr>\n",
       "      <th>25%</th>\n",
       "      <td>4.900000</td>\n",
       "      <td>24.600000</td>\n",
       "      <td>1.100000</td>\n",
       "      <td>14.000000</td>\n",
       "      <td>22.670000</td>\n",
       "    </tr>\n",
       "    <tr>\n",
       "      <th>50%</th>\n",
       "      <td>10.000000</td>\n",
       "      <td>72.900000</td>\n",
       "      <td>2.000000</td>\n",
       "      <td>16.000000</td>\n",
       "      <td>36.420000</td>\n",
       "    </tr>\n",
       "    <tr>\n",
       "      <th>75%</th>\n",
       "      <td>15.100000</td>\n",
       "      <td>100.000000</td>\n",
       "      <td>2.200000</td>\n",
       "      <td>17.000000</td>\n",
       "      <td>44.200000</td>\n",
       "    </tr>\n",
       "    <tr>\n",
       "      <th>max</th>\n",
       "      <td>19.100000</td>\n",
       "      <td>160.000000</td>\n",
       "      <td>2.900000</td>\n",
       "      <td>20.000000</td>\n",
       "      <td>59.200000</td>\n",
       "    </tr>\n",
       "  </tbody>\n",
       "</table>\n",
       "</div>"
      ],
      "text/plain": [
       "       Gross pay       Phi-h   Position   Pressure  Production\n",
       "count  21.000000   21.000000  21.000000  21.000000   21.000000\n",
       "mean    9.823810   68.880952   1.885714  15.285714   33.428571\n",
       "std     5.948521   45.167894   0.708721   2.759400   15.141909\n",
       "min     0.100000    0.500000   1.000000  10.000000    7.710000\n",
       "25%     4.900000   24.600000   1.100000  14.000000   22.670000\n",
       "50%    10.000000   72.900000   2.000000  16.000000   36.420000\n",
       "75%    15.100000  100.000000   2.200000  17.000000   44.200000\n",
       "max    19.100000  160.000000   2.900000  20.000000   59.200000"
      ]
     },
     "execution_count": 5,
     "metadata": {},
     "output_type": "execute_result"
    }
   ],
   "source": [
    "data.describe()"
   ]
  },
  {
   "cell_type": "markdown",
   "metadata": {},
   "source": [
    "We can also explicitly test to ensure data does not have no missing measurements."
   ]
  },
  {
   "cell_type": "code",
   "execution_count": 6,
   "metadata": {},
   "outputs": [
    {
     "data": {
      "text/plain": [
       "False"
      ]
     },
     "execution_count": 6,
     "metadata": {},
     "output_type": "execute_result"
    }
   ],
   "source": [
    "data.isnull().values.any()"
   ]
  },
  {
   "cell_type": "markdown",
   "metadata": {},
   "source": [
    "### Visual inspection of outliers"
   ]
  },
  {
   "cell_type": "code",
   "execution_count": 7,
   "metadata": {
    "collapsed": false
   },
   "outputs": [],
   "source": [
    "# determine best fit line\n",
    "# http://stackoverflow.com/a/23377802/1034648\n",
    "\n",
    "par = np.polyfit(data['Gross pay'], data['Production'], 1, full=True)\n",
    "slope=par[0][0]\n",
    "intercept=par[0][1]\n",
    "xl = [np.amin(data['Gross pay']), np.amax(data['Gross pay'])]\n",
    "yl = [slope*xx + intercept  for xx in xl]\n"
   ]
  },
  {
   "cell_type": "code",
   "execution_count": 8,
   "metadata": {
    "collapsed": false
   },
   "outputs": [],
   "source": [
    "# coefficient of determination\n",
    "variance = np.var(data['Production'])\n",
    "residuals = np.var([(slope*xx + intercept - yy)  for xx,yy in zip(data['Gross pay'], data['Production'])])\n",
    "Rsqr = np.round(1-residuals/variance, decimals=2)\n",
    "\n",
    "# error\n",
    "yerr = [abs(slope*xx + intercept - yy)  for xx,yy in zip(data['Gross pay'], data['Production'])]\n",
    "\n",
    "# https://docs.scipy.org/doc/numpy-1.6.0/reference/generated/numpy.var.html\n",
    "# http://docs.scipy.org/doc/numpy/reference/generated/numpy.polyfit.html\n"
   ]
  },
  {
   "cell_type": "code",
   "execution_count": 9,
   "metadata": {
    "collapsed": false
   },
   "outputs": [],
   "source": [
    "# find outliers\n",
    "\n",
    "# based on error percentiles\n",
    "index = np.where(np.array(yerr)> np.percentile(np.array(yerr)[np.array(yerr)> 0], 98))\n",
    "\n",
    "# based on specific error threshold value\n",
    "# index = np.where(np.array(yerr)> 5.) \n",
    "\n",
    "# Although, the ideal ourtlier should be defined based on a-priori information, e.g. anything above/below a certain value of Gross Pay and/or Production is unrealistic...."
   ]
  },
  {
   "cell_type": "code",
   "execution_count": 10,
   "metadata": {
    "collapsed": true
   },
   "outputs": [],
   "source": [
    "cl_data = data.drop(data.index[index])"
   ]
  },
  {
   "cell_type": "code",
   "execution_count": 11,
   "metadata": {},
   "outputs": [
    {
     "data": {
      "image/png": "[encoded data removed]",
      "text/plain": [
       "<Figure size 720x720 with 1 Axes>"
      ]
     },
     "metadata": {},
     "output_type": "display_data"
    }
   ],
   "source": [
    "fig = plt.figure(figsize=(10, 10))\n",
    "\n",
    "ax = fig.add_subplot(1, 1, 1)\n",
    "ax.set_xlabel('Gross Pay')\n",
    "ax.set_ylabel('Production')\n",
    "\n",
    "plt.scatter(data['Gross pay'], data['Production'], c='k', s=120, linewidths=0.15);\n",
    "\n",
    "plt.savefig('GP_prod.png', dpi=400, bbox_inches='tight', pad_inches=0.1)\n"
   ]
  },
  {
   "cell_type": "code",
   "execution_count": 12,
   "metadata": {},
   "outputs": [
    {
     "data": {
      "image/png": "[encoded data removed]",
      "text/plain": [
       "<Figure size 720x720 with 1 Axes>"
      ]
     },
     "metadata": {},
     "output_type": "display_data"
    }
   ],
   "source": [
    "fig = plt.figure(figsize=(10, 10))\n",
    "\n",
    "ax = fig.add_subplot(1, 1, 1)\n",
    "ax.set_xlabel('Gross Pay')\n",
    "ax.set_ylabel('Production')\n",
    "\n",
    "plt.scatter(data['Gross pay'], data['Production'], c='b', s=120, linewidths=0.15)\n",
    "plt.scatter(cl_data['Gross pay'], cl_data['Production'], c='k', s=120, linewidths=0.15);\n",
    "\n",
    "plt.savefig('GP_prod_ol.png', dpi=400, bbox_inches='tight', pad_inches=0.1)"
   ]
  },
  {
   "cell_type": "markdown",
   "metadata": {},
   "source": [
    "### Effect on best fit and correlation coefficient of removing outliers"
   ]
  },
  {
   "cell_type": "code",
   "execution_count": 13,
   "metadata": {
    "collapsed": false
   },
   "outputs": [],
   "source": [
    "# https://gist.github.com/rsnemmen/0eb32832c657c19e4d39\n",
    "\n",
    "def scatterfit(x,y,a=None,b=None):  \n",
    "  \"\"\"  \n",
    " Compute the mean deviation of the data about the linear model given if A,B  \n",
    " (y=ax+b) provided as arguments. Otherwise, compute the mean deviation about   \n",
    " the best-fit line.  \n",
    "   \n",
    " x,y assumed to be np arrays. a,b scalars.  \n",
    " Returns the float sd with the mean deviation.  \n",
    "   \n",
    " Author: Rodrigo Nemmen  \n",
    "  \"\"\"  \n",
    "  if a==None:   \n",
    "  # Performs linear regression  \n",
    "    a, b, r, p, err = sp.stats.linregress(x,y)  \n",
    "    \n",
    "# Std. deviation of an individual measurement (Bevington, eq. 6.15)  \n",
    "  N=np.size(x)  \n",
    "  sd=1./(N-2.)* np.sum((y-a*x-b)**2); sd=np.sqrt(sd)  \n",
    "    \n",
    "  return sd "
   ]
  },
  {
   "cell_type": "code",
   "execution_count": 14,
   "metadata": {
    "collapsed": false
   },
   "outputs": [],
   "source": [
    "# https://gist.github.com/rsnemmen/f2c03beb391db809c90f\n",
    "\n",
    "def confband(xd,yd,a,b,conf=0.95,x=None):\n",
    "  \"\"\"\n",
    "Calculates the confidence band of the linear regression model at the desired confidence\n",
    "level, using analytical methods. The 2sigma confidence interval is 95% sure to contain \n",
    "the best-fit regression line. This is not the same as saying it will contain 95% of \n",
    "the data points.\n",
    "\n",
    "Arguments:\n",
    "- conf: desired confidence level, by default 0.95 (2 sigma)\n",
    "- xd,yd: data arrays\n",
    "- a,b: linear fit parameters as in y=ax+b\n",
    "- x: (optional) array with x values to calculate the confidence band. If none is provided, will\n",
    "  by default generate 100 points in the original x-range of the data.\n",
    "  \n",
    "Returns:\n",
    "Sequence (lcb,ucb,x) with the arrays holding the lower and upper confidence bands \n",
    "corresponding to the [input] x array.\n",
    "\n",
    "Usage:\n",
    ">>> lcb,ucb,x=nemmen.confband(all.kp,all.lg,a,b,conf=0.95)\n",
    "calculates the confidence bands for the given input arrays\n",
    "\n",
    ">>> plt.fill_between(x, lcb, ucb, alpha=0.3, facecolor='gray')\n",
    "plots a shaded area containing the confidence band\n",
    "\n",
    "References:\n",
    "1. http://en.wikipedia.org/wiki/Simple_linear_regression, see Section Confidence intervals\n",
    "2. http://www.weibull.com/DOEWeb/confidence_intervals_in_simple_linear_regression.htm\n",
    "\n",
    "Author: Rodrigo Nemmen\n",
    "v1 Dec. 2011\n",
    "v2 Jun. 2012: corrected bug in computing dy\n",
    "  \"\"\"\n",
    "  alpha=1.-conf\t# significance\n",
    "  n=xd.size\t# data sample size\n",
    " \n",
    "  if x==None: x=np.linspace(xd.min(),xd.max(),100)\n",
    " \n",
    "  # Predicted values (best-fit model)\n",
    "  y=a*x+b\n",
    " \n",
    "  # Auxiliary definitions\n",
    "  sd=scatterfit(xd,yd,a,b)\t# Scatter of data about the model\n",
    "  sxd=np.sum((xd-xd.mean())**2)\n",
    "  sx=(x-xd.mean())**2\t# array\n",
    " \n",
    "  # Quantile of Student's t distribution for p=1-alpha/2\n",
    "  q=sp.stats.t.ppf(1.-alpha/2.,n-2)\n",
    " \n",
    "  # Confidence band\n",
    "  dy=q*sd*np.sqrt( 1./n + sx/sxd )\n",
    "  ucb=y+dy # Upper confidence band\n",
    "  lcb=y-dy # Lower confidence band\n",
    " \n",
    "  return lcb,ucb,x"
   ]
  },
  {
   "cell_type": "code",
   "execution_count": 15,
   "metadata": {
    "collapsed": false
   },
   "outputs": [],
   "source": [
    "# http://astropython.blogspot.ca/2011_12_01_archive.html\n",
    "\n",
    "# Linear fit  \n",
    "slope, intercept, cc, ps, err = sp.stats.linregress(data['Gross pay'], data['Production'])  \n",
    "   \n",
    "# Generates arrays with the fit  \n",
    "x=np.linspace(np.amin(data['Gross pay']), np.amax(data['Gross pay']),100)  \n",
    "y=slope*x+intercept  \n",
    "   \n",
    "# Calculates the 2 sigma confidence band contours for the fit  \n",
    "lcb, ucb, xcb=confband(data['Gross pay'], data['Production'], slope, intercept, conf=0.95)  \n"
   ]
  },
  {
   "cell_type": "code",
   "execution_count": 16,
   "metadata": {},
   "outputs": [
    {
     "data": {
      "image/png": "[encoded data removed]",
      "text/plain": [
       "<Figure size 720x720 with 1 Axes>"
      ]
     },
     "metadata": {},
     "output_type": "display_data"
    }
   ],
   "source": [
    "fig = plt.figure(figsize=(10, 10))\n",
    "\n",
    "ax = fig.add_subplot(1, 1, 1)\n",
    "ax.set_xlabel('Gross Pay')\n",
    "ax.set_ylabel('Production')\n",
    "\n",
    "plt.title('Production = {0:.1f} + {1:.1f} * Gross Pay'.format (intercept, slope) \n",
    "          +  '     CC = {0:.2f} '.format(cc), color='k')\n",
    "\n",
    "plt.plot(x,y, 'k', lw = 3, alpha = 0.7) \n",
    "\n",
    "plt.scatter(data['Gross pay'], data['Production'], c='k', s=100, linewidths=0.15);\n",
    "\n",
    "plt.savefig('GP_prod_cc.png', dpi=400, bbox_inches='tight', pad_inches=0.1)"
   ]
  },
  {
   "cell_type": "code",
   "execution_count": 17,
   "metadata": {},
   "outputs": [],
   "source": [
    "# Linear fit without outlier \n",
    "slope1, intercept1, cc1, ps1, err1 = sp.stats.linregress(cl_data['Gross pay'], cl_data['Production'])  \n",
    "   \n",
    "# Generates arrays with the fit  \n",
    "x1=np.linspace(np.amin(cl_data['Gross pay']), np.amax(cl_data['Gross pay']),100)  \n",
    "y1=slope1*x1+intercept1\n",
    "   \n",
    "# Calculates the 2 sigma confidence band contours for the fit  \n",
    "lcb1, ucb1, xcb1 =confband(cl_data['Gross pay'], cl_data['Production'], slope1, intercept1, conf=0.95) "
   ]
  },
  {
   "cell_type": "code",
   "execution_count": 18,
   "metadata": {},
   "outputs": [
    {
     "data": {
      "image/png": "[encoded data removed]",
      "text/plain": [
       "<Figure size 720x720 with 1 Axes>"
      ]
     },
     "metadata": {},
     "output_type": "display_data"
    }
   ],
   "source": [
    "fig = plt.figure(figsize=(10, 10))\n",
    "\n",
    "ax = fig.add_subplot(1, 1, 1)\n",
    "ax.set_xlabel('Gross Pay')\n",
    "ax.set_ylabel('Production')\n",
    "\n",
    "plt.title('Production = {0:.1f} + {1:.1f} * Gross Pay'.format (intercept1, slope1) \n",
    "          +  '     CC = {0:.2f} '.format(cc1), color='b')\n",
    "\n",
    "plt.plot(x1,y1, 'b', lw = 3, alpha = 0.7)\n",
    "plt.plot(x,y, 'k', lw = 3, alpha = 0.4, zorder=0) \n",
    "\n",
    "plt.scatter(cl_data['Gross pay'], cl_data['Production'], c='b', s=100, linewidths=0.15, zorder=10);\n",
    "\n",
    "plt.savefig('GP_prod_ol_cc.png', dpi=300, bbox_inches='tight', pad_inches=0.1)"
   ]
  },
  {
   "cell_type": "code",
   "execution_count": null,
   "metadata": {},
   "outputs": [],
   "source": []
  }
 ],
 "metadata": {
  "anaconda-cloud": {},
  "kernelspec": {
   "display_name": "Python [conda env:py36]",
   "language": "python",
   "name": "conda-env-py36-py"
  },
  "language_info": {
   "codemirror_mode": {
    "name": "ipython",
    "version": 3
   },
   "file_extension": ".py",
   "mimetype": "text/x-python",
   "name": "python",
   "nbconvert_exporter": "python",
   "pygments_lexer": "ipython3",
   "version": "3.6.5"
  }
 },
 "nbformat": 4,
 "nbformat_minor": 2
}
