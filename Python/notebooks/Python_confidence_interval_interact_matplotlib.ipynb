{
 "cells": [
  {
   "cell_type": "markdown",
   "metadata": {},
   "source": [
    "#### Preliminaries"
   ]
  },
  {
   "cell_type": "code",
   "execution_count": 1,
   "metadata": {},
   "outputs": [],
   "source": [
    "import pandas as pd\n",
    "import matplotlib.pyplot as plt\n",
    "import numpy as np\n",
    "from scipy import stats\n",
    "import matplotlib as mpl\n",
    "import seaborn as sns\n",
    "from ipywidgets import interact, interactive, FloatSlider, IntSlider"
   ]
  },
  {
   "cell_type": "code",
   "execution_count": 2,
   "metadata": {},
   "outputs": [],
   "source": [
    "mpl.rcParams.update(mpl.rcParamsDefault)\n",
    "from matplotlib import rc\n",
    "font = {'size'   : 18}\n",
    "rc('font', **font)"
   ]
  },
  {
   "cell_type": "code",
   "execution_count": 3,
   "metadata": {},
   "outputs": [],
   "source": [
    "data = pd.read_csv('../data/Table2_Hunt_2013_edit.csv')"
   ]
  },
  {
   "cell_type": "markdown",
   "metadata": {},
   "source": [
    "#### Helper functions"
   ]
  },
  {
   "cell_type": "markdown",
   "metadata": {},
   "source": [
    "##### Confidence interval for the correlation coefficient"
   ]
  },
  {
   "cell_type": "code",
   "execution_count": 4,
   "metadata": {},
   "outputs": [],
   "source": [
    "def confInt(r, nwells):\n",
    "    \"\"\"Function to calculate calculates the confidence interval interval for the population  correlation coefficient \n",
    "    (P97.5 and P2.5), given a confidence level of 95%, the number of wells (and from that the degrees of freedom), \n",
    "    and the sample correlation coefficient.\n",
    "    For the details of the calculation, see Brown at: http://brownmath.com/stat/correl.htm#CI\n",
    "    Notice that the function can take directly arrays as parameters (broadcasting)\"\"\"\n",
    "    z_crit = stats.norm.ppf(.975)\n",
    "    std_Z = 1/np.sqrt(nwells-3)\n",
    "    E = z_crit*std_Z\n",
    "    Z_star = 0.5*(np.log((1+r)/(1.0000000000001-r)))\n",
    "    ZCI_l = Z_star - E\n",
    "    ZCI_u = Z_star + E\n",
    "    RCI_l = (np.exp(2*ZCI_l)-1)/(np.exp(2*ZCI_l)+1)\n",
    "    RCI_u = (np.exp(2*ZCI_u)-1)/(np.exp(2*ZCI_u)+1)\n",
    "    return RCI_u, RCI_l"
   ]
  },
  {
   "cell_type": "markdown",
   "metadata": {},
   "source": [
    "##### Critical r test"
   ]
  },
  {
   "cell_type": "code",
   "execution_count": 5,
   "metadata": {
    "jupyter": {
     "outputs_hidden": false
    }
   },
   "outputs": [],
   "source": [
    "def r_crit(nwells, a=0.05):\n",
    "    \"\"\"Function to calculate the value of critical correlation coefficient: \n",
    "    that is, the value of the correlation coefficient at which you can rule out chance as an explanation \n",
    "    for the relationship in the sample.\n",
    "    # a is equal to alpha/2, where alpha is the level of significance,\n",
    "    # the complement of the confidence level; default = 0.05\"\"\"\n",
    "    \n",
    "    t = stats.t.isf(a, nwells-2) # nwells-2 is the degrees of freedom\n",
    "    r_crit = t/np.sqrt((nwells-2)+ np.power(t,2))\n",
    "    return float(\"{0:.1f}\".format(r_crit))"
   ]
  },
  {
   "cell_type": "markdown",
   "metadata": {},
   "source": [
    "#### Define the function to do all the interactive plotting and also output array"
   ]
  },
  {
   "cell_type": "code",
   "execution_count": 6,
   "metadata": {},
   "outputs": [],
   "source": [
    "def conf_int_demo(r, nwells):\n",
    "    \"\"\"This makes an interactive figure where the parameters...\n",
    "    ...\"\"\"\n",
    "\n",
    "    # set up variables\n",
    "    crr = np.arange(0.0,1.02,0.02).round(decimals=2)\n",
    "    cm = np.asarray(confInt(crr, nwells))\n",
    "    cm_test = np.asarray(confInt(r, nwells))\n",
    "\n",
    "    # set up figure\n",
    "    fig, ax = plt.subplots(figsize=(12,15))\n",
    "    plt.title('Confidence interval for correlation coefficient' + str(nwells) + ' wells')\n",
    "    ax.set_ylim([-1.05,1.05])\n",
    "    ax.set_xlim([0, 1])\n",
    "    ax.set_ylabel('R', rotation = 0)\n",
    "    ax.set_xlabel('r', rotation = 0)\n",
    "\n",
    "    # plot reference lines, R = 0 and R = r \n",
    "    ax.plot([0,1], [0, 1], 'k', linewidth= 3, alpha = 0.7)\n",
    "    ax.plot([0,1], [0, 0], 'k', linewidth= 3, alpha = 0.7)\n",
    "    \n",
    "    ax.plot(np.arange(0.00,1.02,0.02), cm[0,:],  'darkblue', linewidth= 4, alpha = 0.8, \n",
    "            label = ('CI - upper bound'))\n",
    "    ax.plot(np.arange(0.00,1.02,0.02), cm[1,:], 'royalblue', linewidth= 4, alpha = 0.8, \n",
    "            label = ('CI - lower bound'))\n",
    "    \n",
    "    ax.scatter (r, cm_test[0], s=180, facecolors = 'g', edgecolors='k', \n",
    "                label = 'MAX R (' + str(nwells) + ' wells, CC = ' + '{:.2f}'.format(r) + ')', zorder=10)\n",
    "    \n",
    "    \n",
    "    \n",
    "    if cm_test[1]>= 0:\n",
    "        ax.scatter (r, cm_test[1], s=200, facecolors = 'g', edgecolors='k', \n",
    "                    label = 'MIN R (' + str(nwells) + ' wells, CC = ' + '{:.2f}'.format(r) + ')',  zorder=10)\n",
    "        ax.vlines( r, ymin=cm_test[1], ymax=cm_test[0], colors='g', linestyles='dashed', linewidth= 3)\n",
    "    else:\n",
    "        ax.scatter (r, cm_test[1], s=200, facecolors = 'm', edgecolors='k', \n",
    "                    label = 'MIN R  (' + str(nwells) + ' wells, CC = ' + '{:.2f}'.format(r) + ')', zorder=10)  \n",
    "        ax.vlines(r, ymin=0, ymax=cm_test[0], colors='g', linestyles='dashed', linewidth= 3)\n",
    "        ax.vlines(r, ymin=cm_test[1], ymax=0, colors='m', linestyles='dashed', linewidth= 3)\n",
    "        ax.vlines(r, ymin=-1.05, ymax=cm_test[1], colors='k', linestyles='dotted', linewidth= 2)\n",
    "\n",
    "    ax.scatter (r_crit(nwells), 0, s=200, facecolors = 'w', edgecolors='k', \n",
    "                label = 'Critical CC = ' + '{:.2f}'.format(r_crit(nwells)), zorder=10)\n",
    "\n",
    "    plt.legend(loc=4)\n",
    "    plt.grid()\n",
    "    plt.show()\n",
    "\n",
    "    #return (,) # this is used as output "
   ]
  },
  {
   "cell_type": "markdown",
   "metadata": {},
   "source": [
    "#### Call the function and display the interactive plot"
   ]
  },
  {
   "cell_type": "code",
   "execution_count": 7,
   "metadata": {},
   "outputs": [],
   "source": [
    "np.seterr(over='ignore')\n",
    "rslt = interactive(conf_int_demo, r=FloatSlider(min=0, max=1.0, step=0.05, value = 0.4), \n",
    "                   nwells = IntSlider(min=5, max=100, step=5, value = 10))"
   ]
  },
  {
   "cell_type": "markdown",
   "metadata": {},
   "source": [
    "## TO DO: explain how the plot works, then give as examples the two from [here](https://github.com/mycarta/Data-science-tools-petroleum-exploration-and-production/blob/master/Python/notebooks/Python_data_science_tools%20_petroleum_exploration_production.ipynb)."
   ]
  },
  {
   "cell_type": "code",
   "execution_count": 8,
   "metadata": {
    "scrolled": false
   },
   "outputs": [
    {
     "data": {
      "application/vnd.jupyter.widget-view+json": {
       "model_id": "a2de50c1b35d4e319295f7323133a2a1",
       "version_major": 2,
       "version_minor": 0
      },
      "text/plain": [
       "interactive(children=(FloatSlider(value=0.4, description='r', max=1.0, step=0.05), IntSlider(value=10, descrip…"
      ]
     },
     "metadata": {},
     "output_type": "display_data"
    }
   ],
   "source": [
    "display(rslt)"
   ]
  }
 ],
 "metadata": {
  "kernelspec": {
   "display_name": "py36",
   "language": "python",
   "name": "conda-env-py36-py"
  },
  "language_info": {
   "codemirror_mode": {
    "name": "ipython",
    "version": 3
   },
   "file_extension": ".py",
   "mimetype": "text/x-python",
   "name": "python",
   "nbconvert_exporter": "python",
   "pygments_lexer": "ipython3",
   "version": "3.6.8"
  }
 },
 "nbformat": 4,
 "nbformat_minor": 4
}
