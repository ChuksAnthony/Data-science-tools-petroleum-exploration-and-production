{
 "cells": [
  {
   "cell_type": "markdown",
   "metadata": {},
   "source": [
    "## Variable selection 3: Sequential Feature Selector"
   ]
  },
  {
   "cell_type": "markdown",
   "metadata": {},
   "source": [
    "This notebook goes with the blog post: [Variable selection in Python, part I](https://mycarta.wordpress.com/2019/04/30/variable-selection-in-python-part-i/)."
   ]
  },
  {
   "cell_type": "markdown",
   "metadata": {},
   "source": [
    "### Preliminaries"
   ]
  },
  {
   "cell_type": "code",
   "execution_count": 1,
   "metadata": {},
   "outputs": [],
   "source": [
    "import pandas as pd\n",
    "import matplotlib.pyplot as plt\n",
    "import numpy as np\n",
    "from mlxtend.feature_selection import SequentialFeatureSelector as SFS\n",
    "from sklearn.model_selection import LeaveOneOut, GridSearchCV, train_test_split\n",
    "from sklearn.pipeline import Pipeline\n",
    "from sklearn.linear_model import LinearRegression\n",
    "from sklearn import svm, preprocessing"
   ]
  },
  {
   "cell_type": "markdown",
   "metadata": {},
   "source": [
    "### Data loading, dropping production"
   ]
  },
  {
   "cell_type": "code",
   "execution_count": 2,
   "metadata": {},
   "outputs": [],
   "source": [
    "data = pd.read_csv('../data/Table2_Hunt_2013_edit.csv')"
   ]
  },
  {
   "cell_type": "code",
   "execution_count": 3,
   "metadata": {},
   "outputs": [
    {
     "data": {
      "text/html": [
       "<div>\n",
       "<style scoped>\n",
       "    .dataframe tbody tr th:only-of-type {\n",
       "        vertical-align: middle;\n",
       "    }\n",
       "\n",
       "    .dataframe tbody tr th {\n",
       "        vertical-align: top;\n",
       "    }\n",
       "\n",
       "    .dataframe thead th {\n",
       "        text-align: right;\n",
       "    }\n",
       "</style>\n",
       "<table border=\"1\" class=\"dataframe\">\n",
       "  <thead>\n",
       "    <tr style=\"text-align: right;\">\n",
       "      <th></th>\n",
       "      <th>Position</th>\n",
       "      <th>Gross pay</th>\n",
       "      <th>Phi-h</th>\n",
       "      <th>Pressure</th>\n",
       "      <th>Random 1</th>\n",
       "      <th>Random 2</th>\n",
       "      <th>Gross pay transform</th>\n",
       "    </tr>\n",
       "  </thead>\n",
       "  <tbody>\n",
       "    <tr>\n",
       "      <th>count</th>\n",
       "      <td>21.000000</td>\n",
       "      <td>21.000000</td>\n",
       "      <td>21.000000</td>\n",
       "      <td>21.000000</td>\n",
       "      <td>21.000000</td>\n",
       "      <td>21.000000</td>\n",
       "      <td>21.000000</td>\n",
       "    </tr>\n",
       "    <tr>\n",
       "      <th>mean</th>\n",
       "      <td>1.885714</td>\n",
       "      <td>9.823810</td>\n",
       "      <td>68.880952</td>\n",
       "      <td>15.285714</td>\n",
       "      <td>10.190476</td>\n",
       "      <td>292.714286</td>\n",
       "      <td>16.579524</td>\n",
       "    </tr>\n",
       "    <tr>\n",
       "      <th>std</th>\n",
       "      <td>0.708721</td>\n",
       "      <td>5.948521</td>\n",
       "      <td>45.167894</td>\n",
       "      <td>2.759400</td>\n",
       "      <td>6.439092</td>\n",
       "      <td>59.429069</td>\n",
       "      <td>6.543793</td>\n",
       "    </tr>\n",
       "    <tr>\n",
       "      <th>min</th>\n",
       "      <td>1.000000</td>\n",
       "      <td>0.100000</td>\n",
       "      <td>0.500000</td>\n",
       "      <td>10.000000</td>\n",
       "      <td>1.000000</td>\n",
       "      <td>210.000000</td>\n",
       "      <td>3.540000</td>\n",
       "    </tr>\n",
       "    <tr>\n",
       "      <th>25%</th>\n",
       "      <td>1.100000</td>\n",
       "      <td>4.900000</td>\n",
       "      <td>24.600000</td>\n",
       "      <td>14.000000</td>\n",
       "      <td>6.000000</td>\n",
       "      <td>245.000000</td>\n",
       "      <td>11.520000</td>\n",
       "    </tr>\n",
       "    <tr>\n",
       "      <th>50%</th>\n",
       "      <td>2.000000</td>\n",
       "      <td>10.000000</td>\n",
       "      <td>72.900000</td>\n",
       "      <td>16.000000</td>\n",
       "      <td>10.000000</td>\n",
       "      <td>273.000000</td>\n",
       "      <td>16.900000</td>\n",
       "    </tr>\n",
       "    <tr>\n",
       "      <th>75%</th>\n",
       "      <td>2.200000</td>\n",
       "      <td>15.100000</td>\n",
       "      <td>100.000000</td>\n",
       "      <td>17.000000</td>\n",
       "      <td>13.000000</td>\n",
       "      <td>340.000000</td>\n",
       "      <td>21.970000</td>\n",
       "    </tr>\n",
       "    <tr>\n",
       "      <th>max</th>\n",
       "      <td>2.900000</td>\n",
       "      <td>19.100000</td>\n",
       "      <td>160.000000</td>\n",
       "      <td>20.000000</td>\n",
       "      <td>21.000000</td>\n",
       "      <td>395.000000</td>\n",
       "      <td>29.250000</td>\n",
       "    </tr>\n",
       "  </tbody>\n",
       "</table>\n",
       "</div>"
      ],
      "text/plain": [
       "        Position  Gross pay       Phi-h   Pressure   Random 1    Random 2  \\\n",
       "count  21.000000  21.000000   21.000000  21.000000  21.000000   21.000000   \n",
       "mean    1.885714   9.823810   68.880952  15.285714  10.190476  292.714286   \n",
       "std     0.708721   5.948521   45.167894   2.759400   6.439092   59.429069   \n",
       "min     1.000000   0.100000    0.500000  10.000000   1.000000  210.000000   \n",
       "25%     1.100000   4.900000   24.600000  14.000000   6.000000  245.000000   \n",
       "50%     2.000000  10.000000   72.900000  16.000000  10.000000  273.000000   \n",
       "75%     2.200000  15.100000  100.000000  17.000000  13.000000  340.000000   \n",
       "max     2.900000  19.100000  160.000000  20.000000  21.000000  395.000000   \n",
       "\n",
       "       Gross pay transform  \n",
       "count            21.000000  \n",
       "mean             16.579524  \n",
       "std               6.543793  \n",
       "min               3.540000  \n",
       "25%              11.520000  \n",
       "50%              16.900000  \n",
       "75%              21.970000  \n",
       "max              29.250000  "
      ]
     },
     "execution_count": 3,
     "metadata": {},
     "output_type": "execute_result"
    }
   ],
   "source": [
    "features = data.loc[:, ['Position', 'Gross pay', 'Phi-h', 'Pressure', 'Random 1', 'Random 2', 'Gross pay transform']]\n",
    "features.describe()"
   ]
  },
  {
   "cell_type": "markdown",
   "metadata": {},
   "source": [
    "### Sequential BACKWARD Feature Selection with Linear regression"
   ]
  },
  {
   "cell_type": "code",
   "execution_count": 4,
   "metadata": {},
   "outputs": [],
   "source": [
    "X = features.values"
   ]
  },
  {
   "cell_type": "code",
   "execution_count": 5,
   "metadata": {},
   "outputs": [],
   "source": [
    "y = data.loc[:, ['Production']].values"
   ]
  },
  {
   "cell_type": "code",
   "execution_count": 6,
   "metadata": {},
   "outputs": [],
   "source": [
    "loo = LeaveOneOut()"
   ]
  },
  {
   "cell_type": "code",
   "execution_count": 7,
   "metadata": {},
   "outputs": [],
   "source": [
    "LR = LinearRegression()\n",
    "\n",
    "sfs = SFS(estimator=LR, \n",
    "          k_features=1, \n",
    "          forward=False, \n",
    "          floating=True, \n",
    "          scoring='neg_mean_squared_error',\n",
    "          cv = loo,\n",
    "          n_jobs = -1)\n",
    "\n",
    "sfs = sfs.fit(X, y)"
   ]
  },
  {
   "cell_type": "markdown",
   "metadata": {},
   "source": [
    "### Plotting results\n",
    "\n",
    "Plot function modified from:  https://github.com/rasbt/mlxtend/blob/master/mlxtend/plotting/plot_sequential_feature_selection.py"
   ]
  },
  {
   "cell_type": "code",
   "execution_count": 8,
   "metadata": {},
   "outputs": [],
   "source": [
    "# Sebastian Raschka 2014-2019\n",
    "# mlxtend Machine Learning Library Extensions\n",
    "#\n",
    "# Algorithm for plotting sequential feature selection.\n",
    "# Author: Sebastian Raschka <sebastianraschka.com>\n",
    "#\n",
    "# License: BSD 3 clause\n",
    "\n",
    "##### Added by Matteo ######\n",
    "font = {'size'   : 18}\n",
    "plt.rc('font', **font) \n",
    "plt.rc('ytick',labelsize=18)\n",
    "############################\n",
    "\n",
    "\n",
    "def plot_sequential_feature_selection(metric_dict,\n",
    "                                      kind='std_dev',\n",
    "                                      color='blue',\n",
    "                                      bcolor='steelblue',\n",
    "                                      marker='o',\n",
    "                                      alpha=0.2,\n",
    "                                      ylabel='Performance',\n",
    "                                      confidence_interval=0.95):\n",
    "    \"\"\"Plot feature selection results.\n",
    "\n",
    "    Parameters\n",
    "    ----------\n",
    "    metric_dict : mlxtend.SequentialFeatureSelector.get_metric_dict() object\n",
    "    kind : str (default: \"std_dev\")\n",
    "        The kind of error bar or confidence interval in\n",
    "        {'std_dev', 'std_err', 'ci', None}.\n",
    "    color : str (default: \"blue\")\n",
    "        Color of the lineplot (accepts any matplotlib color name)\n",
    "    bcolor : str (default: \"steelblue\").\n",
    "        Color of the error bars / confidence intervals\n",
    "        (accepts any matplotlib color name).\n",
    "    marker : str (default: \"o\")\n",
    "        Marker of the line plot\n",
    "        (accepts any matplotlib marker name).\n",
    "    alpha : float in [0, 1] (default: 0.2)\n",
    "        Transparency of the error bars / confidence intervals.\n",
    "    ylabel : str (default: \"Performance\")\n",
    "        Y-axis label.\n",
    "    confidence_interval : float (default: 0.95)\n",
    "        Confidence level if `kind='ci'`.\n",
    "\n",
    "    Returns\n",
    "    ----------\n",
    "    fig : matplotlib.pyplot.figure() object\n",
    "\n",
    "    Examples\n",
    "    -----------\n",
    "    For usage examples, please see\n",
    "    http://rasbt.github.io/mlxtend/user_guide/plotting/plot_sequential_feature_selection/\n",
    "\n",
    "    \"\"\"\n",
    "\n",
    "    allowed = {'std_dev', 'std_err', 'ci', None}\n",
    "    if kind not in allowed:\n",
    "        raise AttributeError('kind not in %s' % allowed)\n",
    "\n",
    "    fig = plt.figure(figsize=(14,12)) \n",
    "    k_feat = sorted(metric_dict.keys())\n",
    "    avg = [metric_dict[k]['avg_score'] for k in k_feat]\n",
    "\n",
    "    if kind:\n",
    "        upper, lower = [], []\n",
    "        if kind == 'ci':\n",
    "            kind = 'ci_bound'\n",
    "\n",
    "        for k in k_feat:\n",
    "            upper.append(metric_dict[k]['avg_score'] +\n",
    "                         metric_dict[k][kind])\n",
    "            lower.append(metric_dict[k]['avg_score'] -\n",
    "                         metric_dict[k][kind])\n",
    "\n",
    "        plt.fill_between(k_feat,\n",
    "                         upper,\n",
    "                         lower,\n",
    "                         alpha=alpha,\n",
    "                         color=bcolor,\n",
    "                         lw=1)\n",
    "\n",
    "        if kind == 'ci_bound':\n",
    "            kind = 'Confidence Interval (%d%%)' % (confidence_interval * 100)\n",
    "\n",
    "    plt.plot(k_feat, avg, color=color, marker=marker)\n",
    "    plt.ylabel(ylabel)\n",
    "    plt.xlabel('Number of Features')\n",
    "    feature_min = len(metric_dict[k_feat[0]]['feature_idx'])\n",
    "    feature_max = len(metric_dict[k_feat[-1]]['feature_idx'])\n",
    "    plt.xticks(range(feature_min, feature_max + 1),\n",
    "               range(feature_min, feature_max + 1))\n",
    "    return fig"
   ]
  },
  {
   "cell_type": "code",
   "execution_count": 9,
   "metadata": {},
   "outputs": [
    {
     "data": {
      "image/png": "[encoded data removed]",
      "text/plain": [
       "<Figure size 1008x864 with 1 Axes>"
      ]
     },
     "metadata": {
      "needs_background": "light"
     },
     "output_type": "display_data"
    }
   ],
   "source": [
    "plot_sequential_feature_selection(sfs.get_metric_dict(), kind='std_err')\n",
    "plt.title('Sequential Backward Selection')\n",
    "plt.grid()\n",
    "plt.gca().invert_yaxis()\n",
    "plt.gca().invert_xaxis();"
   ]
  },
  {
   "cell_type": "markdown",
   "metadata": {},
   "source": [
    "### Save results to dataframe"
   ]
  },
  {
   "cell_type": "code",
   "execution_count": 10,
   "metadata": {},
   "outputs": [
    {
     "data": {
      "text/html": [
       "<div>\n",
       "<style scoped>\n",
       "    .dataframe tbody tr th:only-of-type {\n",
       "        vertical-align: middle;\n",
       "    }\n",
       "\n",
       "    .dataframe tbody tr th {\n",
       "        vertical-align: top;\n",
       "    }\n",
       "\n",
       "    .dataframe thead th {\n",
       "        text-align: right;\n",
       "    }\n",
       "</style>\n",
       "<table border=\"1\" class=\"dataframe\">\n",
       "  <thead>\n",
       "    <tr style=\"text-align: right;\">\n",
       "      <th></th>\n",
       "      <th>avg_score</th>\n",
       "      <th>ci_bound</th>\n",
       "      <th>cv_scores</th>\n",
       "      <th>feature_idx</th>\n",
       "      <th>feature_names</th>\n",
       "      <th>std_dev</th>\n",
       "      <th>std_err</th>\n",
       "      <th>index</th>\n",
       "    </tr>\n",
       "  </thead>\n",
       "  <tbody>\n",
       "    <tr>\n",
       "      <th>4</th>\n",
       "      <td>-7.21576</td>\n",
       "      <td>4.22087</td>\n",
       "      <td>[-16.29949342891783, -0.27293368410213237, -5....</td>\n",
       "      <td>(0, 1, 2, 3)</td>\n",
       "      <td>(0, 1, 2, 3)</td>\n",
       "      <td>9.07683</td>\n",
       "      <td>2.02964</td>\n",
       "      <td>4</td>\n",
       "    </tr>\n",
       "    <tr>\n",
       "      <th>5</th>\n",
       "      <td>-7.68695</td>\n",
       "      <td>4.32124</td>\n",
       "      <td>[-17.240275443538813, -0.914829402814391, -7.3...</td>\n",
       "      <td>(0, 1, 2, 3, 4)</td>\n",
       "      <td>(0, 1, 2, 3, 4)</td>\n",
       "      <td>9.29267</td>\n",
       "      <td>2.0779</td>\n",
       "      <td>5</td>\n",
       "    </tr>\n",
       "    <tr>\n",
       "      <th>6</th>\n",
       "      <td>-9.27588</td>\n",
       "      <td>5.23563</td>\n",
       "      <td>[-30.68734559577946, -0.382576309729883, -8.33...</td>\n",
       "      <td>(0, 1, 2, 3, 4, 6)</td>\n",
       "      <td>(0, 1, 2, 3, 4, 6)</td>\n",
       "      <td>11.259</td>\n",
       "      <td>2.5176</td>\n",
       "      <td>6</td>\n",
       "    </tr>\n",
       "    <tr>\n",
       "      <th>7</th>\n",
       "      <td>-12.1561</td>\n",
       "      <td>6.90979</td>\n",
       "      <td>[-41.54727896993002, -0.01765014967685895, -5....</td>\n",
       "      <td>(0, 1, 2, 3, 4, 5, 6)</td>\n",
       "      <td>(0, 1, 2, 3, 4, 5, 6)</td>\n",
       "      <td>14.8593</td>\n",
       "      <td>3.32263</td>\n",
       "      <td>7</td>\n",
       "    </tr>\n",
       "    <tr>\n",
       "      <th>3</th>\n",
       "      <td>-14.3201</td>\n",
       "      <td>6.22978</td>\n",
       "      <td>[-15.80179265395075, -3.214416151317504, -0.95...</td>\n",
       "      <td>(0, 1, 3)</td>\n",
       "      <td>(0, 1, 3)</td>\n",
       "      <td>13.3969</td>\n",
       "      <td>2.99564</td>\n",
       "      <td>3</td>\n",
       "    </tr>\n",
       "    <tr>\n",
       "      <th>2</th>\n",
       "      <td>-40.576</td>\n",
       "      <td>29.923</td>\n",
       "      <td>[-25.976143595660844, -0.14395649922134976, -1...</td>\n",
       "      <td>(0, 1)</td>\n",
       "      <td>(0, 1)</td>\n",
       "      <td>64.3484</td>\n",
       "      <td>14.3887</td>\n",
       "      <td>2</td>\n",
       "    </tr>\n",
       "    <tr>\n",
       "      <th>1</th>\n",
       "      <td>-77.2993</td>\n",
       "      <td>42.2025</td>\n",
       "      <td>[-10.808128130366436, -67.99831861802683, -55....</td>\n",
       "      <td>(1,)</td>\n",
       "      <td>(1,)</td>\n",
       "      <td>90.7549</td>\n",
       "      <td>20.2934</td>\n",
       "      <td>1</td>\n",
       "    </tr>\n",
       "  </tbody>\n",
       "</table>\n",
       "</div>"
      ],
      "text/plain": [
       "  avg_score ci_bound                                          cv_scores  \\\n",
       "4  -7.21576  4.22087  [-16.29949342891783, -0.27293368410213237, -5....   \n",
       "5  -7.68695  4.32124  [-17.240275443538813, -0.914829402814391, -7.3...   \n",
       "6  -9.27588  5.23563  [-30.68734559577946, -0.382576309729883, -8.33...   \n",
       "7  -12.1561  6.90979  [-41.54727896993002, -0.01765014967685895, -5....   \n",
       "3  -14.3201  6.22978  [-15.80179265395075, -3.214416151317504, -0.95...   \n",
       "2   -40.576   29.923  [-25.976143595660844, -0.14395649922134976, -1...   \n",
       "1  -77.2993  42.2025  [-10.808128130366436, -67.99831861802683, -55....   \n",
       "\n",
       "             feature_idx          feature_names  std_dev  std_err  index  \n",
       "4           (0, 1, 2, 3)           (0, 1, 2, 3)  9.07683  2.02964      4  \n",
       "5        (0, 1, 2, 3, 4)        (0, 1, 2, 3, 4)  9.29267   2.0779      5  \n",
       "6     (0, 1, 2, 3, 4, 6)     (0, 1, 2, 3, 4, 6)   11.259   2.5176      6  \n",
       "7  (0, 1, 2, 3, 4, 5, 6)  (0, 1, 2, 3, 4, 5, 6)  14.8593  3.32263      7  \n",
       "3              (0, 1, 3)              (0, 1, 3)  13.3969  2.99564      3  \n",
       "2                 (0, 1)                 (0, 1)  64.3484  14.3887      2  \n",
       "1                   (1,)                   (1,)  90.7549  20.2934      1  "
      ]
     },
     "execution_count": 10,
     "metadata": {},
     "output_type": "execute_result"
    }
   ],
   "source": [
    "selected_summary = pd.DataFrame.from_dict(sfs.get_metric_dict()).T\n",
    "selected_summary['index'] = selected_summary.index\n",
    "selected_summary.sort_values(by='avg_score', ascending=0)"
   ]
  },
  {
   "cell_type": "markdown",
   "metadata": {},
   "source": [
    "### Obtaining the best k feature "
   ]
  },
  {
   "cell_type": "code",
   "execution_count": 11,
   "metadata": {},
   "outputs": [
    {
     "data": {
      "text/plain": [
       "array([0, 1, 2, 3])"
      ]
     },
     "execution_count": 11,
     "metadata": {},
     "output_type": "execute_result"
    }
   ],
   "source": [
    "feature_idx = np.array(selected_summary.loc[4]['feature_idx'])\n",
    "feature_idx"
   ]
  },
  {
   "cell_type": "code",
   "execution_count": 12,
   "metadata": {},
   "outputs": [
    {
     "name": "stdout",
     "output_type": "stream",
     "text": [
      "['Position', 'Gross pay', 'Phi-h', 'Pressure']\n"
     ]
    }
   ],
   "source": [
    "selected = features.iloc[:,feature_idx]\n",
    "print(list(selected))"
   ]
  },
  {
   "cell_type": "code",
   "execution_count": 13,
   "metadata": {},
   "outputs": [
    {
     "data": {
      "text/html": [
       "<div>\n",
       "<style scoped>\n",
       "    .dataframe tbody tr th:only-of-type {\n",
       "        vertical-align: middle;\n",
       "    }\n",
       "\n",
       "    .dataframe tbody tr th {\n",
       "        vertical-align: top;\n",
       "    }\n",
       "\n",
       "    .dataframe thead th {\n",
       "        text-align: right;\n",
       "    }\n",
       "</style>\n",
       "<table border=\"1\" class=\"dataframe\">\n",
       "  <thead>\n",
       "    <tr style=\"text-align: right;\">\n",
       "      <th></th>\n",
       "      <th>Position</th>\n",
       "      <th>Gross pay</th>\n",
       "      <th>Phi-h</th>\n",
       "      <th>Pressure</th>\n",
       "    </tr>\n",
       "  </thead>\n",
       "  <tbody>\n",
       "    <tr>\n",
       "      <th>0</th>\n",
       "      <td>2.1</td>\n",
       "      <td>0.1</td>\n",
       "      <td>0.5</td>\n",
       "      <td>19</td>\n",
       "    </tr>\n",
       "    <tr>\n",
       "      <th>1</th>\n",
       "      <td>1.1</td>\n",
       "      <td>1.0</td>\n",
       "      <td>4.0</td>\n",
       "      <td>16</td>\n",
       "    </tr>\n",
       "    <tr>\n",
       "      <th>2</th>\n",
       "      <td>1.0</td>\n",
       "      <td>1.9</td>\n",
       "      <td>19.0</td>\n",
       "      <td>14</td>\n",
       "    </tr>\n",
       "    <tr>\n",
       "      <th>3</th>\n",
       "      <td>2.1</td>\n",
       "      <td>3.1</td>\n",
       "      <td>21.7</td>\n",
       "      <td>17</td>\n",
       "    </tr>\n",
       "    <tr>\n",
       "      <th>4</th>\n",
       "      <td>2.9</td>\n",
       "      <td>4.1</td>\n",
       "      <td>24.6</td>\n",
       "      <td>11</td>\n",
       "    </tr>\n",
       "    <tr>\n",
       "      <th>5</th>\n",
       "      <td>1.1</td>\n",
       "      <td>4.9</td>\n",
       "      <td>39.2</td>\n",
       "      <td>12</td>\n",
       "    </tr>\n",
       "    <tr>\n",
       "      <th>6</th>\n",
       "      <td>2.1</td>\n",
       "      <td>5.9</td>\n",
       "      <td>23.6</td>\n",
       "      <td>13</td>\n",
       "    </tr>\n",
       "    <tr>\n",
       "      <th>7</th>\n",
       "      <td>2.0</td>\n",
       "      <td>7.0</td>\n",
       "      <td>63.0</td>\n",
       "      <td>13</td>\n",
       "    </tr>\n",
       "    <tr>\n",
       "      <th>8</th>\n",
       "      <td>2.9</td>\n",
       "      <td>8.1</td>\n",
       "      <td>72.9</td>\n",
       "      <td>14</td>\n",
       "    </tr>\n",
       "    <tr>\n",
       "      <th>9</th>\n",
       "      <td>2.8</td>\n",
       "      <td>8.9</td>\n",
       "      <td>35.6</td>\n",
       "      <td>16</td>\n",
       "    </tr>\n",
       "    <tr>\n",
       "      <th>10</th>\n",
       "      <td>2.2</td>\n",
       "      <td>10.0</td>\n",
       "      <td>100.0</td>\n",
       "      <td>16</td>\n",
       "    </tr>\n",
       "    <tr>\n",
       "      <th>11</th>\n",
       "      <td>2.0</td>\n",
       "      <td>11.1</td>\n",
       "      <td>77.7</td>\n",
       "      <td>14</td>\n",
       "    </tr>\n",
       "    <tr>\n",
       "      <th>12</th>\n",
       "      <td>2.9</td>\n",
       "      <td>11.9</td>\n",
       "      <td>71.4</td>\n",
       "      <td>20</td>\n",
       "    </tr>\n",
       "    <tr>\n",
       "      <th>13</th>\n",
       "      <td>1.1</td>\n",
       "      <td>13.0</td>\n",
       "      <td>117.0</td>\n",
       "      <td>16</td>\n",
       "    </tr>\n",
       "    <tr>\n",
       "      <th>14</th>\n",
       "      <td>1.2</td>\n",
       "      <td>14.1</td>\n",
       "      <td>141.0</td>\n",
       "      <td>14</td>\n",
       "    </tr>\n",
       "    <tr>\n",
       "      <th>15</th>\n",
       "      <td>1.0</td>\n",
       "      <td>15.1</td>\n",
       "      <td>105.7</td>\n",
       "      <td>17</td>\n",
       "    </tr>\n",
       "    <tr>\n",
       "      <th>16</th>\n",
       "      <td>1.1</td>\n",
       "      <td>15.9</td>\n",
       "      <td>79.5</td>\n",
       "      <td>20</td>\n",
       "    </tr>\n",
       "    <tr>\n",
       "      <th>17</th>\n",
       "      <td>1.2</td>\n",
       "      <td>16.0</td>\n",
       "      <td>160.0</td>\n",
       "      <td>17</td>\n",
       "    </tr>\n",
       "    <tr>\n",
       "      <th>18</th>\n",
       "      <td>1.9</td>\n",
       "      <td>17.1</td>\n",
       "      <td>85.5</td>\n",
       "      <td>14</td>\n",
       "    </tr>\n",
       "    <tr>\n",
       "      <th>19</th>\n",
       "      <td>2.8</td>\n",
       "      <td>18.0</td>\n",
       "      <td>90.0</td>\n",
       "      <td>18</td>\n",
       "    </tr>\n",
       "    <tr>\n",
       "      <th>20</th>\n",
       "      <td>2.1</td>\n",
       "      <td>19.1</td>\n",
       "      <td>114.6</td>\n",
       "      <td>10</td>\n",
       "    </tr>\n",
       "  </tbody>\n",
       "</table>\n",
       "</div>"
      ],
      "text/plain": [
       "    Position  Gross pay  Phi-h  Pressure\n",
       "0        2.1        0.1    0.5        19\n",
       "1        1.1        1.0    4.0        16\n",
       "2        1.0        1.9   19.0        14\n",
       "3        2.1        3.1   21.7        17\n",
       "4        2.9        4.1   24.6        11\n",
       "5        1.1        4.9   39.2        12\n",
       "6        2.1        5.9   23.6        13\n",
       "7        2.0        7.0   63.0        13\n",
       "8        2.9        8.1   72.9        14\n",
       "9        2.8        8.9   35.6        16\n",
       "10       2.2       10.0  100.0        16\n",
       "11       2.0       11.1   77.7        14\n",
       "12       2.9       11.9   71.4        20\n",
       "13       1.1       13.0  117.0        16\n",
       "14       1.2       14.1  141.0        14\n",
       "15       1.0       15.1  105.7        17\n",
       "16       1.1       15.9   79.5        20\n",
       "17       1.2       16.0  160.0        17\n",
       "18       1.9       17.1   85.5        14\n",
       "19       2.8       18.0   90.0        18\n",
       "20       2.1       19.1  114.6        10"
      ]
     },
     "execution_count": 13,
     "metadata": {},
     "output_type": "execute_result"
    }
   ],
   "source": [
    "selected"
   ]
  },
  {
   "cell_type": "markdown",
   "metadata": {},
   "source": [
    "### Sequential FORWARD Feature Selection with Linear regression"
   ]
  },
  {
   "cell_type": "code",
   "execution_count": 14,
   "metadata": {},
   "outputs": [],
   "source": [
    "LR = LinearRegression()\n",
    "\n",
    "sfs = SFS(estimator=LR, \n",
    "          k_features=7, \n",
    "          forward=True, \n",
    "          floating=True, \n",
    "          scoring='neg_mean_squared_error',\n",
    "          cv = loo,\n",
    "          n_jobs = -1)\n",
    "\n",
    "sfs = sfs.fit(X, y)"
   ]
  },
  {
   "cell_type": "code",
   "execution_count": 15,
   "metadata": {},
   "outputs": [
    {
     "data": {
      "image/png": "[encoded data removed]",
      "text/plain": [
       "<Figure size 1008x864 with 1 Axes>"
      ]
     },
     "metadata": {
      "needs_background": "light"
     },
     "output_type": "display_data"
    }
   ],
   "source": [
    "plot_sequential_feature_selection(sfs.get_metric_dict(), kind='std_err')\n",
    "plt.title('Sequential Forward Selection')\n",
    "plt.grid()\n",
    "plt.gca().invert_yaxis();"
   ]
  },
  {
   "cell_type": "markdown",
   "metadata": {},
   "source": [
    "### Save results to dataframe"
   ]
  },
  {
   "cell_type": "code",
   "execution_count": 16,
   "metadata": {},
   "outputs": [
    {
     "data": {
      "text/html": [
       "<div>\n",
       "<style scoped>\n",
       "    .dataframe tbody tr th:only-of-type {\n",
       "        vertical-align: middle;\n",
       "    }\n",
       "\n",
       "    .dataframe tbody tr th {\n",
       "        vertical-align: top;\n",
       "    }\n",
       "\n",
       "    .dataframe thead th {\n",
       "        text-align: right;\n",
       "    }\n",
       "</style>\n",
       "<table border=\"1\" class=\"dataframe\">\n",
       "  <thead>\n",
       "    <tr style=\"text-align: right;\">\n",
       "      <th></th>\n",
       "      <th>avg_score</th>\n",
       "      <th>ci_bound</th>\n",
       "      <th>cv_scores</th>\n",
       "      <th>feature_idx</th>\n",
       "      <th>feature_names</th>\n",
       "      <th>std_dev</th>\n",
       "      <th>std_err</th>\n",
       "      <th>index</th>\n",
       "    </tr>\n",
       "  </thead>\n",
       "  <tbody>\n",
       "    <tr>\n",
       "      <th>4</th>\n",
       "      <td>-7.21576</td>\n",
       "      <td>4.22087</td>\n",
       "      <td>[-16.29949342891783, -0.27293368410213237, -5....</td>\n",
       "      <td>(0, 1, 2, 3)</td>\n",
       "      <td>(0, 1, 2, 3)</td>\n",
       "      <td>9.07683</td>\n",
       "      <td>2.02964</td>\n",
       "      <td>4</td>\n",
       "    </tr>\n",
       "    <tr>\n",
       "      <th>5</th>\n",
       "      <td>-7.68695</td>\n",
       "      <td>4.32124</td>\n",
       "      <td>[-17.240275443538813, -0.914829402814391, -7.3...</td>\n",
       "      <td>(0, 1, 2, 3, 4)</td>\n",
       "      <td>(0, 1, 2, 3, 4)</td>\n",
       "      <td>9.29267</td>\n",
       "      <td>2.0779</td>\n",
       "      <td>5</td>\n",
       "    </tr>\n",
       "    <tr>\n",
       "      <th>6</th>\n",
       "      <td>-9.27588</td>\n",
       "      <td>5.23563</td>\n",
       "      <td>[-30.68734559577946, -0.382576309729883, -8.33...</td>\n",
       "      <td>(0, 1, 2, 3, 4, 6)</td>\n",
       "      <td>(0, 1, 2, 3, 4, 6)</td>\n",
       "      <td>11.259</td>\n",
       "      <td>2.5176</td>\n",
       "      <td>6</td>\n",
       "    </tr>\n",
       "    <tr>\n",
       "      <th>7</th>\n",
       "      <td>-12.1561</td>\n",
       "      <td>6.90979</td>\n",
       "      <td>[-41.54727896993002, -0.01765014967685895, -5....</td>\n",
       "      <td>(0, 1, 2, 3, 4, 5, 6)</td>\n",
       "      <td>(0, 1, 2, 3, 4, 5, 6)</td>\n",
       "      <td>14.8593</td>\n",
       "      <td>3.32263</td>\n",
       "      <td>7</td>\n",
       "    </tr>\n",
       "    <tr>\n",
       "      <th>3</th>\n",
       "      <td>-30.1421</td>\n",
       "      <td>18.8553</td>\n",
       "      <td>[-74.17343647698772, -0.0011006227301459455, -...</td>\n",
       "      <td>(0, 2, 3)</td>\n",
       "      <td>(0, 2, 3)</td>\n",
       "      <td>40.5477</td>\n",
       "      <td>9.06673</td>\n",
       "      <td>3</td>\n",
       "    </tr>\n",
       "    <tr>\n",
       "      <th>2</th>\n",
       "      <td>-41.9401</td>\n",
       "      <td>26.6575</td>\n",
       "      <td>[-75.57932114882955, -31.885236740060652, -45....</td>\n",
       "      <td>(2, 3)</td>\n",
       "      <td>(2, 3)</td>\n",
       "      <td>57.3261</td>\n",
       "      <td>12.8185</td>\n",
       "      <td>2</td>\n",
       "    </tr>\n",
       "    <tr>\n",
       "      <th>1</th>\n",
       "      <td>-68.4167</td>\n",
       "      <td>57.1842</td>\n",
       "      <td>[-2.3033552129713235, -58.01553074927203, -16....</td>\n",
       "      <td>(2,)</td>\n",
       "      <td>(2,)</td>\n",
       "      <td>122.972</td>\n",
       "      <td>27.4975</td>\n",
       "      <td>1</td>\n",
       "    </tr>\n",
       "  </tbody>\n",
       "</table>\n",
       "</div>"
      ],
      "text/plain": [
       "  avg_score ci_bound                                          cv_scores  \\\n",
       "4  -7.21576  4.22087  [-16.29949342891783, -0.27293368410213237, -5....   \n",
       "5  -7.68695  4.32124  [-17.240275443538813, -0.914829402814391, -7.3...   \n",
       "6  -9.27588  5.23563  [-30.68734559577946, -0.382576309729883, -8.33...   \n",
       "7  -12.1561  6.90979  [-41.54727896993002, -0.01765014967685895, -5....   \n",
       "3  -30.1421  18.8553  [-74.17343647698772, -0.0011006227301459455, -...   \n",
       "2  -41.9401  26.6575  [-75.57932114882955, -31.885236740060652, -45....   \n",
       "1  -68.4167  57.1842  [-2.3033552129713235, -58.01553074927203, -16....   \n",
       "\n",
       "             feature_idx          feature_names  std_dev  std_err  index  \n",
       "4           (0, 1, 2, 3)           (0, 1, 2, 3)  9.07683  2.02964      4  \n",
       "5        (0, 1, 2, 3, 4)        (0, 1, 2, 3, 4)  9.29267   2.0779      5  \n",
       "6     (0, 1, 2, 3, 4, 6)     (0, 1, 2, 3, 4, 6)   11.259   2.5176      6  \n",
       "7  (0, 1, 2, 3, 4, 5, 6)  (0, 1, 2, 3, 4, 5, 6)  14.8593  3.32263      7  \n",
       "3              (0, 2, 3)              (0, 2, 3)  40.5477  9.06673      3  \n",
       "2                 (2, 3)                 (2, 3)  57.3261  12.8185      2  \n",
       "1                   (2,)                   (2,)  122.972  27.4975      1  "
      ]
     },
     "execution_count": 16,
     "metadata": {},
     "output_type": "execute_result"
    }
   ],
   "source": [
    "selected_summary = pd.DataFrame.from_dict(sfs.get_metric_dict()).T\n",
    "selected_summary['index'] = selected_summary.index\n",
    "selected_summary.sort_values(by='avg_score', ascending=0)"
   ]
  },
  {
   "cell_type": "markdown",
   "metadata": {},
   "source": [
    "### Obtaining the best k feature "
   ]
  },
  {
   "cell_type": "code",
   "execution_count": 17,
   "metadata": {},
   "outputs": [
    {
     "data": {
      "text/plain": [
       "array([0, 1, 2, 3])"
      ]
     },
     "execution_count": 17,
     "metadata": {},
     "output_type": "execute_result"
    }
   ],
   "source": [
    "feature_idx = np.array(selected_summary.loc[4]['feature_idx'])\n",
    "feature_idx"
   ]
  },
  {
   "cell_type": "code",
   "execution_count": 18,
   "metadata": {},
   "outputs": [
    {
     "name": "stdout",
     "output_type": "stream",
     "text": [
      "['Position', 'Gross pay', 'Phi-h', 'Pressure']\n"
     ]
    }
   ],
   "source": [
    "selected = features.iloc[:,feature_idx]\n",
    "print(list(selected))"
   ]
  },
  {
   "cell_type": "code",
   "execution_count": 19,
   "metadata": {},
   "outputs": [
    {
     "data": {
      "text/html": [
       "<div>\n",
       "<style scoped>\n",
       "    .dataframe tbody tr th:only-of-type {\n",
       "        vertical-align: middle;\n",
       "    }\n",
       "\n",
       "    .dataframe tbody tr th {\n",
       "        vertical-align: top;\n",
       "    }\n",
       "\n",
       "    .dataframe thead th {\n",
       "        text-align: right;\n",
       "    }\n",
       "</style>\n",
       "<table border=\"1\" class=\"dataframe\">\n",
       "  <thead>\n",
       "    <tr style=\"text-align: right;\">\n",
       "      <th></th>\n",
       "      <th>Position</th>\n",
       "      <th>Gross pay</th>\n",
       "      <th>Phi-h</th>\n",
       "      <th>Pressure</th>\n",
       "    </tr>\n",
       "  </thead>\n",
       "  <tbody>\n",
       "    <tr>\n",
       "      <th>0</th>\n",
       "      <td>2.1</td>\n",
       "      <td>0.1</td>\n",
       "      <td>0.5</td>\n",
       "      <td>19</td>\n",
       "    </tr>\n",
       "    <tr>\n",
       "      <th>1</th>\n",
       "      <td>1.1</td>\n",
       "      <td>1.0</td>\n",
       "      <td>4.0</td>\n",
       "      <td>16</td>\n",
       "    </tr>\n",
       "    <tr>\n",
       "      <th>2</th>\n",
       "      <td>1.0</td>\n",
       "      <td>1.9</td>\n",
       "      <td>19.0</td>\n",
       "      <td>14</td>\n",
       "    </tr>\n",
       "    <tr>\n",
       "      <th>3</th>\n",
       "      <td>2.1</td>\n",
       "      <td>3.1</td>\n",
       "      <td>21.7</td>\n",
       "      <td>17</td>\n",
       "    </tr>\n",
       "    <tr>\n",
       "      <th>4</th>\n",
       "      <td>2.9</td>\n",
       "      <td>4.1</td>\n",
       "      <td>24.6</td>\n",
       "      <td>11</td>\n",
       "    </tr>\n",
       "    <tr>\n",
       "      <th>5</th>\n",
       "      <td>1.1</td>\n",
       "      <td>4.9</td>\n",
       "      <td>39.2</td>\n",
       "      <td>12</td>\n",
       "    </tr>\n",
       "    <tr>\n",
       "      <th>6</th>\n",
       "      <td>2.1</td>\n",
       "      <td>5.9</td>\n",
       "      <td>23.6</td>\n",
       "      <td>13</td>\n",
       "    </tr>\n",
       "    <tr>\n",
       "      <th>7</th>\n",
       "      <td>2.0</td>\n",
       "      <td>7.0</td>\n",
       "      <td>63.0</td>\n",
       "      <td>13</td>\n",
       "    </tr>\n",
       "    <tr>\n",
       "      <th>8</th>\n",
       "      <td>2.9</td>\n",
       "      <td>8.1</td>\n",
       "      <td>72.9</td>\n",
       "      <td>14</td>\n",
       "    </tr>\n",
       "    <tr>\n",
       "      <th>9</th>\n",
       "      <td>2.8</td>\n",
       "      <td>8.9</td>\n",
       "      <td>35.6</td>\n",
       "      <td>16</td>\n",
       "    </tr>\n",
       "    <tr>\n",
       "      <th>10</th>\n",
       "      <td>2.2</td>\n",
       "      <td>10.0</td>\n",
       "      <td>100.0</td>\n",
       "      <td>16</td>\n",
       "    </tr>\n",
       "    <tr>\n",
       "      <th>11</th>\n",
       "      <td>2.0</td>\n",
       "      <td>11.1</td>\n",
       "      <td>77.7</td>\n",
       "      <td>14</td>\n",
       "    </tr>\n",
       "    <tr>\n",
       "      <th>12</th>\n",
       "      <td>2.9</td>\n",
       "      <td>11.9</td>\n",
       "      <td>71.4</td>\n",
       "      <td>20</td>\n",
       "    </tr>\n",
       "    <tr>\n",
       "      <th>13</th>\n",
       "      <td>1.1</td>\n",
       "      <td>13.0</td>\n",
       "      <td>117.0</td>\n",
       "      <td>16</td>\n",
       "    </tr>\n",
       "    <tr>\n",
       "      <th>14</th>\n",
       "      <td>1.2</td>\n",
       "      <td>14.1</td>\n",
       "      <td>141.0</td>\n",
       "      <td>14</td>\n",
       "    </tr>\n",
       "    <tr>\n",
       "      <th>15</th>\n",
       "      <td>1.0</td>\n",
       "      <td>15.1</td>\n",
       "      <td>105.7</td>\n",
       "      <td>17</td>\n",
       "    </tr>\n",
       "    <tr>\n",
       "      <th>16</th>\n",
       "      <td>1.1</td>\n",
       "      <td>15.9</td>\n",
       "      <td>79.5</td>\n",
       "      <td>20</td>\n",
       "    </tr>\n",
       "    <tr>\n",
       "      <th>17</th>\n",
       "      <td>1.2</td>\n",
       "      <td>16.0</td>\n",
       "      <td>160.0</td>\n",
       "      <td>17</td>\n",
       "    </tr>\n",
       "    <tr>\n",
       "      <th>18</th>\n",
       "      <td>1.9</td>\n",
       "      <td>17.1</td>\n",
       "      <td>85.5</td>\n",
       "      <td>14</td>\n",
       "    </tr>\n",
       "    <tr>\n",
       "      <th>19</th>\n",
       "      <td>2.8</td>\n",
       "      <td>18.0</td>\n",
       "      <td>90.0</td>\n",
       "      <td>18</td>\n",
       "    </tr>\n",
       "    <tr>\n",
       "      <th>20</th>\n",
       "      <td>2.1</td>\n",
       "      <td>19.1</td>\n",
       "      <td>114.6</td>\n",
       "      <td>10</td>\n",
       "    </tr>\n",
       "  </tbody>\n",
       "</table>\n",
       "</div>"
      ],
      "text/plain": [
       "    Position  Gross pay  Phi-h  Pressure\n",
       "0        2.1        0.1    0.5        19\n",
       "1        1.1        1.0    4.0        16\n",
       "2        1.0        1.9   19.0        14\n",
       "3        2.1        3.1   21.7        17\n",
       "4        2.9        4.1   24.6        11\n",
       "5        1.1        4.9   39.2        12\n",
       "6        2.1        5.9   23.6        13\n",
       "7        2.0        7.0   63.0        13\n",
       "8        2.9        8.1   72.9        14\n",
       "9        2.8        8.9   35.6        16\n",
       "10       2.2       10.0  100.0        16\n",
       "11       2.0       11.1   77.7        14\n",
       "12       2.9       11.9   71.4        20\n",
       "13       1.1       13.0  117.0        16\n",
       "14       1.2       14.1  141.0        14\n",
       "15       1.0       15.1  105.7        17\n",
       "16       1.1       15.9   79.5        20\n",
       "17       1.2       16.0  160.0        17\n",
       "18       1.9       17.1   85.5        14\n",
       "19       2.8       18.0   90.0        18\n",
       "20       2.1       19.1  114.6        10"
      ]
     },
     "execution_count": 19,
     "metadata": {},
     "output_type": "execute_result"
    }
   ],
   "source": [
    "selected"
   ]
  },
  {
   "cell_type": "markdown",
   "metadata": {},
   "source": [
    "### Sequential BACKWARD Feature Selection with GridSearchCV and SVM regressor\n",
    "\n",
    "This uses scikit-learn's GridSearch to tune the hyperparameters inside and outside the Sequential Feature Selector, similarly to what shown in this example: http://rasbt.github.io/mlxtend/user_guide/feature_selection/SequentialFeatureSelector/#example-8-sequential-feature-selection-and-gridsearch"
   ]
  },
  {
   "cell_type": "markdown",
   "metadata": {},
   "source": [
    "##### data loading scaling, splitting"
   ]
  },
  {
   "cell_type": "code",
   "execution_count": 20,
   "metadata": {},
   "outputs": [],
   "source": [
    "data = pd.read_csv('../data/Table2_Hunt_2013_edit.csv')\n",
    "y = pd.Series(data.Production)\n",
    "X = data.drop(['Production'], axis=1)"
   ]
  },
  {
   "cell_type": "code",
   "execution_count": 21,
   "metadata": {},
   "outputs": [],
   "source": [
    "scaled_X = preprocessing.StandardScaler().fit_transform(X.values)\n",
    "scaled_X_df = pd.DataFrame(scaled_X, index=X.index, columns=X.columns)"
   ]
  },
  {
   "cell_type": "raw",
   "metadata": {},
   "source": [
    "train_X, val_X, train_y, val_y = train_test_split(scaled_X_df, y, test_size= 0.2, random_state=99)"
   ]
  },
  {
   "cell_type": "markdown",
   "metadata": {},
   "source": [
    "##### set-up crossvalidation "
   ]
  },
  {
   "cell_type": "code",
   "execution_count": 22,
   "metadata": {},
   "outputs": [],
   "source": [
    "loo = LeaveOneOut()"
   ]
  },
  {
   "cell_type": "code",
   "execution_count": 23,
   "metadata": {},
   "outputs": [],
   "source": [
    "#####this one to prevent warning about gamma settings\n",
    "import warnings\n",
    "warnings.filterwarnings(\"ignore\", category=FutureWarning)"
   ]
  },
  {
   "cell_type": "markdown",
   "metadata": {},
   "source": [
    "##### important point about the syntax of `param_grid` for the pipeline\n",
    "From: https://github.com/rasbt/mlxtend/issues/591#issuecomment-534134838"
   ]
  },
  {
   "cell_type": "code",
   "execution_count": 24,
   "metadata": {},
   "outputs": [
    {
     "data": {
      "text/plain": [
       "dict_keys(['clone_estimator', 'cv', 'estimator__copy_X', 'estimator__fit_intercept', 'estimator__n_jobs', 'estimator__normalize', 'estimator', 'floating', 'forward', 'k_features', 'n_jobs', 'pre_dispatch', 'scoring', 'verbose', 'linearregression', 'linearregression__copy_X', 'linearregression__fit_intercept', 'linearregression__n_jobs', 'linearregression__normalize'])"
      ]
     },
     "execution_count": 24,
     "metadata": {},
     "output_type": "execute_result"
    }
   ],
   "source": [
    "sfs.get_params().keys()"
   ]
  },
  {
   "cell_type": "code",
   "execution_count": 25,
   "metadata": {},
   "outputs": [],
   "source": [
    "# pipeline\n",
    "svrr = svm.SVR(cache_size = 2000)\n",
    "\n",
    "sfs = SFS(estimator=svrr, \n",
    "          k_features=1, \n",
    "          forward=False, \n",
    "          floating=True, \n",
    "          scoring='neg_mean_squared_error',\n",
    "          cv = loo,\n",
    "          n_jobs = -1)\n",
    "\n",
    "pipe = Pipeline([('sfs', sfs), \n",
    "                 ('svr', svrr)])\n",
    "\n",
    "parm_grid=[ \n",
    "    {'sfs__estimator__kernel': ['linear', 'poly', 'rbf'],\n",
    "     'sfs__k_features': [1, 2, 3, 4, 5, 6, 7],\n",
    "     'sfs__estimator__C': [1e-06, 1e-05, 0.0001, 0.001, 0.005, 0.1],\n",
    "     'sfs__estimator__gamma':[1e-08, 1e-07, 1e-06, 1e-05]}\n",
    "    ]\n",
    "\n",
    "grid_search = GridSearchCV(estimator=pipe, \n",
    "                           param_grid=parm_grid,\n",
    "                           scoring='neg_mean_squared_error',\n",
    "                           cv=loo,\n",
    "                           n_jobs = -1,\n",
    "                          iid=True,\n",
    "                          refit=False)\n",
    "\n",
    "# run gridearch\n",
    "gs = grid_search.fit(scaled_X_df, y)"
   ]
  },
  {
   "cell_type": "code",
   "execution_count": 26,
   "metadata": {},
   "outputs": [
    {
     "name": "stdout",
     "output_type": "stream",
     "text": [
      "Best parameters via GridSearch {'sfs__estimator__C': 1e-06, 'sfs__estimator__gamma': 1e-08, 'sfs__estimator__kernel': 'linear', 'sfs__k_features': 1}\n"
     ]
    }
   ],
   "source": [
    "print(\"Best parameters via GridSearch\", gs.best_params_)"
   ]
  },
  {
   "cell_type": "code",
   "execution_count": 28,
   "metadata": {},
   "outputs": [],
   "source": [
    "grid_search = GridSearchCV(estimator=pipe, \n",
    "                           param_grid=parm_grid,\n",
    "                           scoring='neg_mean_squared_error',\n",
    "                           cv=loo,\n",
    "                           n_jobs = -1,\n",
    "                          iid=True,\n",
    "                          refit=True)\n",
    "\n",
    "grid_search=grid_search.fit(X, y)"
   ]
  },
  {
   "cell_type": "code",
   "execution_count": 29,
   "metadata": {},
   "outputs": [
    {
     "data": {
      "text/plain": [
       "[('sfs', SequentialFeatureSelector(clone_estimator=True, cv=LeaveOneOut(),\n",
       "               estimator=SVR(C=1e-06, cache_size=2000, coef0=0.0, degree=3, epsilon=0.1, gamma=1e-08,\n",
       "    kernel='linear', max_iter=-1, shrinking=True, tol=0.001, verbose=False),\n",
       "               floating=True, forward=False, k_features=2, n_jobs=-1,\n",
       "               pre_dispatch='2*n_jobs', scoring='neg_mean_squared_error',\n",
       "               verbose=0)),\n",
       " ('svr', SVR(C=1.0, cache_size=2000, coef0=0.0, degree=3, epsilon=0.1,\n",
       "    gamma='auto_deprecated', kernel='rbf', max_iter=-1, shrinking=True,\n",
       "    tol=0.001, verbose=False))]"
      ]
     },
     "execution_count": 29,
     "metadata": {},
     "output_type": "execute_result"
    }
   ],
   "source": [
    "grid_search.best_estimator_.steps"
   ]
  },
  {
   "cell_type": "code",
   "execution_count": 30,
   "metadata": {},
   "outputs": [
    {
     "name": "stdout",
     "output_type": "stream",
     "text": [
      "Best features: (0, 2)\n"
     ]
    }
   ],
   "source": [
    "print('Best features:', grid_search.best_estimator_.steps[0][1].k_feature_idx_)"
   ]
  },
  {
   "cell_type": "code",
   "execution_count": 31,
   "metadata": {},
   "outputs": [
    {
     "name": "stdout",
     "output_type": "stream",
     "text": [
      "Best score: -263.2040572691484\n"
     ]
    }
   ],
   "source": [
    "print('Best score:', grid_search.best_score_)"
   ]
  },
  {
   "cell_type": "markdown",
   "metadata": {},
   "source": [
    "##### Obtaining the best k featurs"
   ]
  },
  {
   "cell_type": "code",
   "execution_count": 32,
   "metadata": {},
   "outputs": [
    {
     "name": "stdout",
     "output_type": "stream",
     "text": [
      "[0, 2]\n"
     ]
    }
   ],
   "source": [
    "idx=list(grid_search.best_estimator_.steps[0][1].k_feature_idx_)\n",
    "print (idx)"
   ]
  },
  {
   "cell_type": "code",
   "execution_count": 33,
   "metadata": {},
   "outputs": [
    {
     "name": "stdout",
     "output_type": "stream",
     "text": [
      "['Gross pay', 'Position']\n"
     ]
    }
   ],
   "source": [
    "selected = scaled_X_df.iloc[:,idx]\n",
    "print(list(selected))"
   ]
  },
  {
   "cell_type": "code",
   "execution_count": 34,
   "metadata": {},
   "outputs": [
    {
     "data": {
      "text/html": [
       "<div>\n",
       "<style scoped>\n",
       "    .dataframe tbody tr th:only-of-type {\n",
       "        vertical-align: middle;\n",
       "    }\n",
       "\n",
       "    .dataframe tbody tr th {\n",
       "        vertical-align: top;\n",
       "    }\n",
       "\n",
       "    .dataframe thead th {\n",
       "        text-align: right;\n",
       "    }\n",
       "</style>\n",
       "<table border=\"1\" class=\"dataframe\">\n",
       "  <thead>\n",
       "    <tr style=\"text-align: right;\">\n",
       "      <th></th>\n",
       "      <th>Gross pay</th>\n",
       "      <th>Position</th>\n",
       "    </tr>\n",
       "  </thead>\n",
       "  <tbody>\n",
       "    <tr>\n",
       "      <th>0</th>\n",
       "      <td>-1.675028</td>\n",
       "      <td>0.309822</td>\n",
       "    </tr>\n",
       "    <tr>\n",
       "      <th>1</th>\n",
       "      <td>-1.519994</td>\n",
       "      <td>-1.136015</td>\n",
       "    </tr>\n",
       "    <tr>\n",
       "      <th>2</th>\n",
       "      <td>-1.364959</td>\n",
       "      <td>-1.280598</td>\n",
       "    </tr>\n",
       "    <tr>\n",
       "      <th>3</th>\n",
       "      <td>-1.158247</td>\n",
       "      <td>0.309822</td>\n",
       "    </tr>\n",
       "    <tr>\n",
       "      <th>4</th>\n",
       "      <td>-0.985986</td>\n",
       "      <td>1.466491</td>\n",
       "    </tr>\n",
       "    <tr>\n",
       "      <th>5</th>\n",
       "      <td>-0.848178</td>\n",
       "      <td>-1.136015</td>\n",
       "    </tr>\n",
       "    <tr>\n",
       "      <th>6</th>\n",
       "      <td>-0.675917</td>\n",
       "      <td>0.309822</td>\n",
       "    </tr>\n",
       "    <tr>\n",
       "      <th>7</th>\n",
       "      <td>-0.486431</td>\n",
       "      <td>0.165238</td>\n",
       "    </tr>\n",
       "    <tr>\n",
       "      <th>8</th>\n",
       "      <td>-0.296944</td>\n",
       "      <td>1.466491</td>\n",
       "    </tr>\n",
       "    <tr>\n",
       "      <th>9</th>\n",
       "      <td>-0.159136</td>\n",
       "      <td>1.321908</td>\n",
       "    </tr>\n",
       "    <tr>\n",
       "      <th>10</th>\n",
       "      <td>0.030351</td>\n",
       "      <td>0.454406</td>\n",
       "    </tr>\n",
       "    <tr>\n",
       "      <th>11</th>\n",
       "      <td>0.219837</td>\n",
       "      <td>0.165238</td>\n",
       "    </tr>\n",
       "    <tr>\n",
       "      <th>12</th>\n",
       "      <td>0.357646</td>\n",
       "      <td>1.466491</td>\n",
       "    </tr>\n",
       "    <tr>\n",
       "      <th>13</th>\n",
       "      <td>0.547132</td>\n",
       "      <td>-1.136015</td>\n",
       "    </tr>\n",
       "    <tr>\n",
       "      <th>14</th>\n",
       "      <td>0.736619</td>\n",
       "      <td>-0.991431</td>\n",
       "    </tr>\n",
       "    <tr>\n",
       "      <th>15</th>\n",
       "      <td>0.908879</td>\n",
       "      <td>-1.280598</td>\n",
       "    </tr>\n",
       "    <tr>\n",
       "      <th>16</th>\n",
       "      <td>1.046687</td>\n",
       "      <td>-1.136015</td>\n",
       "    </tr>\n",
       "    <tr>\n",
       "      <th>17</th>\n",
       "      <td>1.063913</td>\n",
       "      <td>-0.991431</td>\n",
       "    </tr>\n",
       "    <tr>\n",
       "      <th>18</th>\n",
       "      <td>1.253400</td>\n",
       "      <td>0.020655</td>\n",
       "    </tr>\n",
       "    <tr>\n",
       "      <th>19</th>\n",
       "      <td>1.408434</td>\n",
       "      <td>1.321908</td>\n",
       "    </tr>\n",
       "    <tr>\n",
       "      <th>20</th>\n",
       "      <td>1.597921</td>\n",
       "      <td>0.309822</td>\n",
       "    </tr>\n",
       "  </tbody>\n",
       "</table>\n",
       "</div>"
      ],
      "text/plain": [
       "    Gross pay  Position\n",
       "0   -1.675028  0.309822\n",
       "1   -1.519994 -1.136015\n",
       "2   -1.364959 -1.280598\n",
       "3   -1.158247  0.309822\n",
       "4   -0.985986  1.466491\n",
       "5   -0.848178 -1.136015\n",
       "6   -0.675917  0.309822\n",
       "7   -0.486431  0.165238\n",
       "8   -0.296944  1.466491\n",
       "9   -0.159136  1.321908\n",
       "10   0.030351  0.454406\n",
       "11   0.219837  0.165238\n",
       "12   0.357646  1.466491\n",
       "13   0.547132 -1.136015\n",
       "14   0.736619 -0.991431\n",
       "15   0.908879 -1.280598\n",
       "16   1.046687 -1.136015\n",
       "17   1.063913 -0.991431\n",
       "18   1.253400  0.020655\n",
       "19   1.408434  1.321908\n",
       "20   1.597921  0.309822"
      ]
     },
     "execution_count": 34,
     "metadata": {},
     "output_type": "execute_result"
    }
   ],
   "source": [
    "selected"
   ]
  },
  {
   "cell_type": "code",
   "execution_count": null,
   "metadata": {},
   "outputs": [],
   "source": []
  },
  {
   "cell_type": "code",
   "execution_count": null,
   "metadata": {},
   "outputs": [],
   "source": []
  }
 ],
 "metadata": {
  "kernelspec": {
   "display_name": "Python 3",
   "language": "python",
   "name": "python3"
  },
  "language_info": {
   "codemirror_mode": {
    "name": "ipython",
    "version": 3
   },
   "file_extension": ".py",
   "mimetype": "text/x-python",
   "name": "python",
   "nbconvert_exporter": "python",
   "pygments_lexer": "ipython3",
   "version": "3.7.3"
  }
 },
 "nbformat": 4,
 "nbformat_minor": 4
}
