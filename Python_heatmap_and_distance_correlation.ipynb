{
 "cells": [
  {
   "cell_type": "markdown",
   "metadata": {},
   "source": [
    "### Machine learning in geoscience with scikit-learn - notebook 2"
   ]
  },
  {
   "cell_type": "markdown",
   "metadata": {},
   "source": [
    "Matteo Niccoli, MyCarta - Calgary, Alberta, Canada\n",
    "\n",
    "mycarta.wordpress.com\n",
    "\n",
    "matteo@mycarta.ca"
   ]
  },
  {
   "cell_type": "markdown",
   "metadata": {},
   "source": [
    "This is the second notebook in a series about Machine Learning in geoscience. The overall **goal** of this series of notebooks is to **predict P-wave velocity from other geophysical logs** using Machine Learning. The aspiration is to show that some of these models perform better than multivariate linear regression.\n",
    "\n",
    "The notebooks accompany a <a href=\"https://mycarta.wordpress.com/2016/10/01/machine-learning-in-geoscience-with-scikit-learn-series-outline/\"> series of blog post on MyCarta</a>:\n",
    "\n",
    "1) Machine learning in geoscience with scikit-learn. Part 1: checking, tidying, and analyzing the dataset\n",
    "\n",
    "2) Machine learning in geoscience with scikit-learn. Part 2: using inferential statistics to select features\n",
    "\n",
    "3) Machine learning in geoscience with scikit-learn. Part 3: evaluating and comparing algorithms\n",
    "\n",
    "4) Machine learning in geoscience with scikit-learn. Part 4: improving results with algorithm tuning"
   ]
  },
  {
   "cell_type": "markdown",
   "metadata": {},
   "source": [
    "In the  <a href=\"https://github.com/mycarta/predict/blob/master/Geoscience_ML_notebook_1.ipynb\"> first notebook</a> I showed how to use Pandas, Seaborn, and Matplotlib to:\n",
    "- load the <a href=\"https://github.com/mycarta/predict/blob/master/qsiwell2_predict.csv\"> dataset</a> \n",
    "- test, clean up, and summarize the data\n",
    "- start looking for relationships between variables using scatterplots and correlation coefficients\n",
    "\n",
    "In this second notebook I will expand on the latter point by introducing some tests and visualizations that will help  highlight the possible criteria for choosing some variables, and dropping others. \n",
    "\n",
    "I will not recommend, as you will see, to run the tests and apply the criteria blindly, but more to use them as a way to learn more about the data, and in conjunction with domain knowledge about the data, make more informed choices.\n",
    "\n",
    "I will use a different dataset from notebook 1. This one is from the paper **Many correlation coefficients, null hypoteses, and high value (Hunt, 2013, Reference 1)**\n",
    "\n",
    "The target variable to be predicted, Y, is oil production (measured in tens of barrels of oil per day) from a marine barrier sand. As Hunt does in the paper, I will not use the variable names initially, so if you want to follow along without spoiling some surprises, just read on, and go back to the paper later."
   ]
  },
  {
   "cell_type": "markdown",
   "metadata": {},
   "source": [
    "#### A NOTE ON STATISTICAL TERMINOLOGY"
   ]
  },
  {
   "cell_type": "markdown",
   "metadata": {},
   "source": [
    "Some familiarity with statistics, in particular with hypothesis testing, would be beneficial, but I have included a  list of essential definitions at the end of the notebook."
   ]
  },
  {
   "cell_type": "markdown",
   "metadata": {},
   "source": [
    "#### PRELIMINARIES"
   ]
  },
  {
   "cell_type": "markdown",
   "metadata": {},
   "source": [
    "First we import the libraries we will need, and the data."
   ]
  },
  {
   "cell_type": "code",
   "execution_count": 1,
   "metadata": {
    "collapsed": true
   },
   "outputs": [],
   "source": [
    "import pandas as pd\n",
    "import matplotlib as mpl\n",
    "import matplotlib.pyplot as plt\n",
    "from matplotlib.patches import Rectangle\n",
    "from matplotlib.colors import ListedColormap\n",
    "import numpy as np\n",
    "import scipy as sp\n",
    "import seaborn as sns\n",
    "import math\n",
    "\n",
    "%matplotlib inline"
   ]
  },
  {
   "cell_type": "code",
   "execution_count": 2,
   "metadata": {
    "collapsed": true
   },
   "outputs": [],
   "source": [
    "data = pd.read_csv('Table2_Hunt_2013_edit.csv')"
   ]
  },
  {
   "cell_type": "markdown",
   "metadata": {},
   "source": [
    "A quick summary of the data (count row) shows there are no missing data points."
   ]
  },
  {
   "cell_type": "code",
   "execution_count": 3,
   "metadata": {},
   "outputs": [
    {
     "data": {
      "text/html": [
       "<div>\n",
       "<style scoped>\n",
       "    .dataframe tbody tr th:only-of-type {\n",
       "        vertical-align: middle;\n",
       "    }\n",
       "\n",
       "    .dataframe tbody tr th {\n",
       "        vertical-align: top;\n",
       "    }\n",
       "\n",
       "    .dataframe thead th {\n",
       "        text-align: right;\n",
       "    }\n",
       "</style>\n",
       "<table border=\"1\" class=\"dataframe\">\n",
       "  <thead>\n",
       "    <tr style=\"text-align: right;\">\n",
       "      <th></th>\n",
       "      <th>Gross pay</th>\n",
       "      <th>Phi-h</th>\n",
       "      <th>Position</th>\n",
       "      <th>Pressure</th>\n",
       "      <th>Random 1</th>\n",
       "      <th>Random 2</th>\n",
       "      <th>Gross pay transform</th>\n",
       "      <th>Production</th>\n",
       "    </tr>\n",
       "  </thead>\n",
       "  <tbody>\n",
       "    <tr>\n",
       "      <th>count</th>\n",
       "      <td>21.000000</td>\n",
       "      <td>21.000000</td>\n",
       "      <td>21.000000</td>\n",
       "      <td>21.000000</td>\n",
       "      <td>21.000000</td>\n",
       "      <td>21.000000</td>\n",
       "      <td>21.000000</td>\n",
       "      <td>21.000000</td>\n",
       "    </tr>\n",
       "    <tr>\n",
       "      <th>mean</th>\n",
       "      <td>9.823810</td>\n",
       "      <td>68.880952</td>\n",
       "      <td>1.885714</td>\n",
       "      <td>15.285714</td>\n",
       "      <td>10.190476</td>\n",
       "      <td>292.714286</td>\n",
       "      <td>16.579524</td>\n",
       "      <td>33.428571</td>\n",
       "    </tr>\n",
       "    <tr>\n",
       "      <th>std</th>\n",
       "      <td>5.948521</td>\n",
       "      <td>45.167894</td>\n",
       "      <td>0.708721</td>\n",
       "      <td>2.759400</td>\n",
       "      <td>6.439092</td>\n",
       "      <td>59.429069</td>\n",
       "      <td>6.543793</td>\n",
       "      <td>15.141909</td>\n",
       "    </tr>\n",
       "    <tr>\n",
       "      <th>min</th>\n",
       "      <td>0.100000</td>\n",
       "      <td>0.500000</td>\n",
       "      <td>1.000000</td>\n",
       "      <td>10.000000</td>\n",
       "      <td>1.000000</td>\n",
       "      <td>210.000000</td>\n",
       "      <td>3.540000</td>\n",
       "      <td>7.710000</td>\n",
       "    </tr>\n",
       "    <tr>\n",
       "      <th>25%</th>\n",
       "      <td>4.900000</td>\n",
       "      <td>24.600000</td>\n",
       "      <td>1.100000</td>\n",
       "      <td>14.000000</td>\n",
       "      <td>6.000000</td>\n",
       "      <td>245.000000</td>\n",
       "      <td>11.520000</td>\n",
       "      <td>22.670000</td>\n",
       "    </tr>\n",
       "    <tr>\n",
       "      <th>50%</th>\n",
       "      <td>10.000000</td>\n",
       "      <td>72.900000</td>\n",
       "      <td>2.000000</td>\n",
       "      <td>16.000000</td>\n",
       "      <td>10.000000</td>\n",
       "      <td>273.000000</td>\n",
       "      <td>16.900000</td>\n",
       "      <td>36.420000</td>\n",
       "    </tr>\n",
       "    <tr>\n",
       "      <th>75%</th>\n",
       "      <td>15.100000</td>\n",
       "      <td>100.000000</td>\n",
       "      <td>2.200000</td>\n",
       "      <td>17.000000</td>\n",
       "      <td>13.000000</td>\n",
       "      <td>340.000000</td>\n",
       "      <td>21.970000</td>\n",
       "      <td>44.200000</td>\n",
       "    </tr>\n",
       "    <tr>\n",
       "      <th>max</th>\n",
       "      <td>19.100000</td>\n",
       "      <td>160.000000</td>\n",
       "      <td>2.900000</td>\n",
       "      <td>20.000000</td>\n",
       "      <td>21.000000</td>\n",
       "      <td>395.000000</td>\n",
       "      <td>29.250000</td>\n",
       "      <td>59.200000</td>\n",
       "    </tr>\n",
       "  </tbody>\n",
       "</table>\n",
       "</div>"
      ],
      "text/plain": [
       "       Gross pay       Phi-h   Position   Pressure   Random 1    Random 2  \\\n",
       "count  21.000000   21.000000  21.000000  21.000000  21.000000   21.000000   \n",
       "mean    9.823810   68.880952   1.885714  15.285714  10.190476  292.714286   \n",
       "std     5.948521   45.167894   0.708721   2.759400   6.439092   59.429069   \n",
       "min     0.100000    0.500000   1.000000  10.000000   1.000000  210.000000   \n",
       "25%     4.900000   24.600000   1.100000  14.000000   6.000000  245.000000   \n",
       "50%    10.000000   72.900000   2.000000  16.000000  10.000000  273.000000   \n",
       "75%    15.100000  100.000000   2.200000  17.000000  13.000000  340.000000   \n",
       "max    19.100000  160.000000   2.900000  20.000000  21.000000  395.000000   \n",
       "\n",
       "       Gross pay transform  Production  \n",
       "count            21.000000   21.000000  \n",
       "mean             16.579524   33.428571  \n",
       "std               6.543793   15.141909  \n",
       "min               3.540000    7.710000  \n",
       "25%              11.520000   22.670000  \n",
       "50%              16.900000   36.420000  \n",
       "75%              21.970000   44.200000  \n",
       "max              29.250000   59.200000  "
      ]
     },
     "execution_count": 3,
     "metadata": {},
     "output_type": "execute_result"
    }
   ],
   "source": [
    "data.describe()"
   ]
  },
  {
   "cell_type": "markdown",
   "metadata": {},
   "source": [
    "We can also explicitly test to ensure data does not have no missing measurements.\n",
    "\n",
    "https://stackoverflow.com/a/29530559"
   ]
  },
  {
   "cell_type": "code",
   "execution_count": 4,
   "metadata": {},
   "outputs": [
    {
     "data": {
      "text/plain": [
       "Gross pay              False\n",
       "Phi-h                  False\n",
       "Position               False\n",
       "Pressure               False\n",
       "Random 1               False\n",
       "Random 2               False\n",
       "Gross pay transform    False\n",
       "Production             False\n",
       "dtype: bool"
      ]
     },
     "execution_count": 4,
     "metadata": {},
     "output_type": "execute_result"
    }
   ],
   "source": [
    "#data.isnull().any().any()\n",
    "\n",
    "data.isnull().any()"
   ]
  },
  {
   "cell_type": "markdown",
   "metadata": {},
   "source": [
    "The test was successful."
   ]
  },
  {
   "cell_type": "markdown",
   "metadata": {},
   "source": [
    "In **Too many seismic attributes? (Barnes, 2016, Reference 2)** Arthur Barnes shows how to screen seismic attributes that are obviously redundant (e.g. they carry almost exactly the same information) by looking for similar linear relationships (and quadratic as well) with very little scatter. I really recommend reading his paper, it is an eye-opener about seismic attributes in general.\n",
    "\n",
    "However, with an increasing number of attributes (and in fact, to me, this is already plenty), this visual assessment becomes very tedious.\n",
    "\n",
    "In the  <a href=\"https://github.com/mycarta/predict/blob/master/Geoscience_ML_notebook_1.ipynb\"> first notebook</a> I suggested as an alternative the use of a correlation matrix heatmap annotated with the pairwise correlation coefficient.\n",
    "\n",
    "Even better, we can automate the task of highlighting those linear relationships between independent variables. Here's how you can do it. First we look at the correlation matrix, jsut to have it handy."
   ]
  },
  {
   "cell_type": "code",
   "execution_count": 5,
   "metadata": {},
   "outputs": [
    {
     "data": {
      "text/html": [
       "<div>\n",
       "<style scoped>\n",
       "    .dataframe tbody tr th:only-of-type {\n",
       "        vertical-align: middle;\n",
       "    }\n",
       "\n",
       "    .dataframe tbody tr th {\n",
       "        vertical-align: top;\n",
       "    }\n",
       "\n",
       "    .dataframe thead th {\n",
       "        text-align: right;\n",
       "    }\n",
       "</style>\n",
       "<table border=\"1\" class=\"dataframe\">\n",
       "  <thead>\n",
       "    <tr style=\"text-align: right;\">\n",
       "      <th></th>\n",
       "      <th>Gross pay</th>\n",
       "      <th>Phi-h</th>\n",
       "      <th>Position</th>\n",
       "      <th>Pressure</th>\n",
       "      <th>Random 1</th>\n",
       "      <th>Random 2</th>\n",
       "      <th>Gross pay transform</th>\n",
       "      <th>Production</th>\n",
       "    </tr>\n",
       "  </thead>\n",
       "  <tbody>\n",
       "    <tr>\n",
       "      <th>Gross pay</th>\n",
       "      <td>1.000000</td>\n",
       "      <td>0.875325</td>\n",
       "      <td>-0.028835</td>\n",
       "      <td>0.136672</td>\n",
       "      <td>0.188988</td>\n",
       "      <td>0.187135</td>\n",
       "      <td>0.980519</td>\n",
       "      <td>0.868831</td>\n",
       "    </tr>\n",
       "    <tr>\n",
       "      <th>Phi-h</th>\n",
       "      <td>0.875325</td>\n",
       "      <td>1.000000</td>\n",
       "      <td>-0.142863</td>\n",
       "      <td>0.050595</td>\n",
       "      <td>0.193550</td>\n",
       "      <td>0.367122</td>\n",
       "      <td>0.828571</td>\n",
       "      <td>0.861039</td>\n",
       "    </tr>\n",
       "    <tr>\n",
       "      <th>Position</th>\n",
       "      <td>-0.028835</td>\n",
       "      <td>-0.142863</td>\n",
       "      <td>1.000000</td>\n",
       "      <td>-0.017241</td>\n",
       "      <td>0.013154</td>\n",
       "      <td>-0.501658</td>\n",
       "      <td>-0.015073</td>\n",
       "      <td>-0.328323</td>\n",
       "    </tr>\n",
       "    <tr>\n",
       "      <th>Pressure</th>\n",
       "      <td>0.136672</td>\n",
       "      <td>0.050595</td>\n",
       "      <td>-0.017241</td>\n",
       "      <td>1.000000</td>\n",
       "      <td>-0.127601</td>\n",
       "      <td>0.117364</td>\n",
       "      <td>0.191866</td>\n",
       "      <td>0.384390</td>\n",
       "    </tr>\n",
       "    <tr>\n",
       "      <th>Random 1</th>\n",
       "      <td>0.188988</td>\n",
       "      <td>0.193550</td>\n",
       "      <td>0.013154</td>\n",
       "      <td>-0.127601</td>\n",
       "      <td>1.000000</td>\n",
       "      <td>-0.069449</td>\n",
       "      <td>0.207887</td>\n",
       "      <td>0.117303</td>\n",
       "    </tr>\n",
       "    <tr>\n",
       "      <th>Random 2</th>\n",
       "      <td>0.187135</td>\n",
       "      <td>0.367122</td>\n",
       "      <td>-0.501658</td>\n",
       "      <td>0.117364</td>\n",
       "      <td>-0.069449</td>\n",
       "      <td>1.000000</td>\n",
       "      <td>0.165692</td>\n",
       "      <td>0.331384</td>\n",
       "    </tr>\n",
       "    <tr>\n",
       "      <th>Gross pay transform</th>\n",
       "      <td>0.980519</td>\n",
       "      <td>0.828571</td>\n",
       "      <td>-0.015073</td>\n",
       "      <td>0.191866</td>\n",
       "      <td>0.207887</td>\n",
       "      <td>0.165692</td>\n",
       "      <td>1.000000</td>\n",
       "      <td>0.854545</td>\n",
       "    </tr>\n",
       "    <tr>\n",
       "      <th>Production</th>\n",
       "      <td>0.868831</td>\n",
       "      <td>0.861039</td>\n",
       "      <td>-0.328323</td>\n",
       "      <td>0.384390</td>\n",
       "      <td>0.117303</td>\n",
       "      <td>0.331384</td>\n",
       "      <td>0.854545</td>\n",
       "      <td>1.000000</td>\n",
       "    </tr>\n",
       "  </tbody>\n",
       "</table>\n",
       "</div>"
      ],
      "text/plain": [
       "                     Gross pay     Phi-h  Position  Pressure  Random 1  \\\n",
       "Gross pay             1.000000  0.875325 -0.028835  0.136672  0.188988   \n",
       "Phi-h                 0.875325  1.000000 -0.142863  0.050595  0.193550   \n",
       "Position             -0.028835 -0.142863  1.000000 -0.017241  0.013154   \n",
       "Pressure              0.136672  0.050595 -0.017241  1.000000 -0.127601   \n",
       "Random 1              0.188988  0.193550  0.013154 -0.127601  1.000000   \n",
       "Random 2              0.187135  0.367122 -0.501658  0.117364 -0.069449   \n",
       "Gross pay transform   0.980519  0.828571 -0.015073  0.191866  0.207887   \n",
       "Production            0.868831  0.861039 -0.328323  0.384390  0.117303   \n",
       "\n",
       "                     Random 2  Gross pay transform  Production  \n",
       "Gross pay            0.187135             0.980519    0.868831  \n",
       "Phi-h                0.367122             0.828571    0.861039  \n",
       "Position            -0.501658            -0.015073   -0.328323  \n",
       "Pressure             0.117364             0.191866    0.384390  \n",
       "Random 1            -0.069449             0.207887    0.117303  \n",
       "Random 2             1.000000             0.165692    0.331384  \n",
       "Gross pay transform  0.165692             1.000000    0.854545  \n",
       "Production           0.331384             0.854545    1.000000  "
      ]
     },
     "execution_count": 5,
     "metadata": {},
     "output_type": "execute_result"
    }
   ],
   "source": [
    "data.corr(method = 'spearman') "
   ]
  },
  {
   "cell_type": "markdown",
   "metadata": {},
   "source": [
    "The cell below generates the same heatmap shown in the previous notebook. The only difference is that I added a line to eliminate labels for the main diagonal."
   ]
  },
  {
   "cell_type": "code",
   "execution_count": 6,
   "metadata": {},
   "outputs": [
    {
     "data": {
      "image/png": "[encoded data removed]",
      "text/plain": [
       "<Figure size 432x288 with 2 Axes>"
      ]
     },
     "metadata": {},
     "output_type": "display_data"
    }
   ],
   "source": [
    "sns.set(style=\"white\")\n",
    "\n",
    "# Generate a mask for the upper triangle\n",
    "mask = np.zeros_like(data.corr() , dtype=np.bool)\n",
    "mask[np.triu_indices_from(mask)] = True\n",
    "\n",
    "# Draw the heatmap with the mask and correct aspect ratio\n",
    "h = sns.heatmap(data.corr(method = 'spearman') ,annot=True,  mask=mask, cmap='PRGn', vmax=.3, square=True)\n",
    "\n",
    "# Make labels nice and eliminate main diagonal ones\n",
    "xlabels = [item.get_text() for item in h.get_xticklabels()]\n",
    "xlabels[-1] = ''\n",
    "h.set_xticklabels(xlabels)\n",
    "ylabels = [item1.get_text() for item1 in h.get_yticklabels()]\n",
    "ylabels[-1] = ''\n",
    "h.set_yticklabels(ylabels)\n",
    "plt.yticks(rotation=0)\n",
    "\n",
    "plt.show()"
   ]
  },
  {
   "cell_type": "markdown",
   "metadata": {},
   "source": [
    "The next two blocks of code create a boolean flag for linearly correlated attributes. I use as a criteria the Spearman correlation coefficient (in absolute value) and set a threshold at 0.85 (this value is my personal choice).\n",
    "\n",
    "The flag is then used as a mask to highlight those coefficients in the heatmap, using coloured Matplotlib patches. The Production row is excluded."
   ]
  },
  {
   "cell_type": "code",
   "execution_count": 7,
   "metadata": {},
   "outputs": [
    {
     "name": "stdout",
     "output_type": "stream",
     "text": [
      "                     Gross pay  Phi-h  Position  Pressure  Random 1  Random 2  \\\n",
      "Gross pay                False  False     False     False     False     False   \n",
      "Phi-h                     True  False     False     False     False     False   \n",
      "Position                 False  False     False     False     False     False   \n",
      "Pressure                 False  False     False     False     False     False   \n",
      "Random 1                 False  False     False     False     False     False   \n",
      "Random 2                 False  False     False     False     False     False   \n",
      "Gross pay transform       True  False     False     False     False     False   \n",
      "Production                True   True     False     False     False     False   \n",
      "\n",
      "                     Gross pay transform  Production  \n",
      "Gross pay                          False       False  \n",
      "Phi-h                              False       False  \n",
      "Position                           False       False  \n",
      "Pressure                           False       False  \n",
      "Random 1                           False       False  \n",
      "Random 2                           False       False  \n",
      "Gross pay transform                False       False  \n",
      "Production                          True       False  \n"
     ]
    }
   ],
   "source": [
    "a = np.abs(data.corr(method = 'spearman')) # absolute values of pair-wise spearman correlation coefficients\n",
    "\n",
    "mask1 = np.ones(a.shape, dtype=np.bool)     # create a mask where data.corr() is True\n",
    "mask1[np.triu_indices(len(a))] = False      # turn mask's upper triangle to False (including diagonal)\n",
    "\n",
    "mask1 = np.isfinite(a[(a>=0.85)&mask1])      # turn rest to False unless spearman is greater than the desired threshold\n",
    "\n",
    "print (mask1)"
   ]
  },
  {
   "cell_type": "code",
   "execution_count": 8,
   "metadata": {
    "collapsed": true
   },
   "outputs": [],
   "source": [
    "mask1 = np.flipud(mask1)               # Cell indexing in sns.heatmap is 0 based with origin at bottom left\n",
    "mask1 = zip(*np.where(mask1 == True))  # Create list of tuples from mask to add patches to heatmap\n",
    "\n",
    "X_mask = [i for i in mask1 if i[1] != 0] # The Production row is excluded"
   ]
  },
  {
   "cell_type": "code",
   "execution_count": 9,
   "metadata": {},
   "outputs": [
    {
     "data": {
      "image/png": "[encoded data removed]",
      "text/plain": [
       "<Figure size 432x288 with 2 Axes>"
      ]
     },
     "metadata": {},
     "output_type": "display_data"
    }
   ],
   "source": [
    "sns.set(style=\"white\")\n",
    "\n",
    "# Generate a mask for the upper triangle\n",
    "mask2 = np.zeros_like(data.corr(method = 'spearman') , dtype=np.bool)\n",
    "mask2[np.triu_indices_from(mask2)] = True\n",
    "\n",
    "# Draw the heatmap with the mask and correct aspect ratio\n",
    "h = sns.heatmap(data.corr(method = 'spearman') ,annot=True,  mask=mask2, cmap='PRGn', vmax=.3, square=True)\n",
    "\n",
    "# Make labels nice and eliminate main diagonbal ones\n",
    "xlabels = [item.get_text() for item in h.get_xticklabels()]\n",
    "xlabels[-1] = ''\n",
    "h.set_xticklabels(xlabels)\n",
    "plt.xticks(rotation=75)\n",
    "ylabels = [item1.get_text() for item1 in h.get_yticklabels()]\n",
    "ylabels[-1] = ''\n",
    "h.set_yticklabels(ylabels)\n",
    "plt.yticks(rotation=0)\n",
    "\n",
    "# draw patches, using X-mask from previous cell\n",
    "for tp in X_mask:\n",
    "    h.add_patch(Rectangle(tp, 1, 1, fill=True, color = 'orange')) \n",
    "plt.show()"
   ]
  },
  {
   "cell_type": "markdown",
   "metadata": {},
   "source": [
    "Great! \n",
    "\n",
    "Now we can focus our attention on the specific relationships between **Gross pay** and **Phi-h** and between **Gross pay** and **Gross pay transform**, and decide which of these variables we will use to predict production. It is very important to understand these relationships, and try to uncover possible dependence these are the three variables with the highest correlation coefficient to production (bottom row).\n",
    "\n",
    "Notice that **Gross pay transform** is a made-up variable: I created it specifically for this exercise by passing X7 to a logarithmic function, and then adding a bit of normally distributed random noise, as shown in this support notebook.\n",
    "\n",
    "We will use all the statistical information, in conjunction with our domain knowledge of petroleum geology. To do that, I will now lift the veil on the names for these three variables."
   ]
  },
  {
   "cell_type": "code",
   "execution_count": 10,
   "metadata": {},
   "outputs": [
    {
     "data": {
      "image/png": "[encoded data removed]",
      "text/plain": [
       "<Figure size 576x288 with 2 Axes>"
      ]
     },
     "metadata": {},
     "output_type": "display_data"
    }
   ],
   "source": [
    "g = sns.PairGrid(data, y_vars=[\"Gross pay\"], x_vars=[\"Phi-h\", \"Gross pay transform\"], size=4)\n",
    "g.map(sns.regplot, color=\"0.2\")\n",
    "plt.show()"
   ]
  },
  {
   "cell_type": "markdown",
   "metadata": {},
   "source": [
    "I plotted these scatterplots using Gross pay on the y axis, because that is the variable that correlates the most with production (r = 0.87) so I anticipate this will be the driving contributor to our prediction of production.\n",
    "\n",
    "Phi-h includes a thickness term so I expect a partial dependence between the Phi-h and Gross pay. However, because there's a physical expectation of a relationship between production and Phi-h, the latter should be used in a multi-variate prediction.\n",
    "\n",
    "There are other tools, that can be used at a later stage, that will tell us how much new information each variable will add. For example, Hunt uses step-wise regression, whereby attributes are added one by one and the multi-variate correlation coefficient is recalculated each time and plotted against variable number. A similar approach in Machine learning (for example when using a random forest classifier), is a plot of relative feature importance. Also comparing the training error versus testing error as each new variable is added, will be useful in this respect, as it will show when the training error stops decreasing, indicating that adding more variables will result in overfitting.\n",
    "\n",
    "For the Gross Pay transform, we know now it is a made up variable. But it could just as well have been one of those redundant attributes described by Barnes. Let's pretend it is. We assume it is a genuine attribute and we give it a chance just like we did with the rest, especially because of its high correlation with Production. But the conclusion, because the correlation coefficient between Gross pay and Gross pay transform is nearly 1, and because we do not have a physical explanation for the relationship between Gross pay transform and Production, is that we should reject this attribute (Hughes et al., as quoted in Hunt, suggest in their book on Critical thinking, that data alone does not make an argument, and that we should be careful in using data that lacks a reasonable claim of physical or causal relationship)."
   ]
  },
  {
   "cell_type": "markdown",
   "metadata": {},
   "source": [
    "##### PART 2 - independent variables uncorrelated to the target"
   ]
  },
  {
   "cell_type": "markdown",
   "metadata": {},
   "source": [
    "In the next section we will look at how to screen the remaining variables base on their relationship with the variable we want to predict, Production.\n",
    "\n",
    "We first look at the scatterplots."
   ]
  },
  {
   "cell_type": "code",
   "execution_count": 11,
   "metadata": {
    "collapsed": true
   },
   "outputs": [],
   "source": [
    "from scipy import stats\n",
    "def corrfunc(x, y, **kws):\n",
    "    (r, p) = stats.pearsonr(x, y)\n",
    "    ax = plt.gca()\n",
    "    ax.annotate(\"r = {:.2f}\".format(r),\n",
    "                xy=(.2, .9), xycoords=ax.transAxes)"
   ]
  },
  {
   "cell_type": "code",
   "execution_count": 12,
   "metadata": {},
   "outputs": [
    {
     "data": {
      "image/png": "[encoded data removed]",
      "text/plain": [
       "<Figure size 1152x288 with 4 Axes>"
      ]
     },
     "metadata": {},
     "output_type": "display_data"
    }
   ],
   "source": [
    "g = sns.PairGrid(data, y_vars=[\"Production\"], x_vars=['Position', 'Pressure', 'Random 1', 'Random 2'], size=4)\n",
    "g.map(sns.regplot, color=\"0.2\")\n",
    "g.map(corrfunc)\n",
    "plt.show()"
   ]
  },
  {
   "cell_type": "markdown",
   "metadata": {},
   "source": [
    "All 4 scatterplot seem to have a lot more scatter, and wide confidence intervals. But we want to quantify the goodness of the relationship with production."
   ]
  },
  {
   "cell_type": "markdown",
   "metadata": {},
   "source": [
    "#### Critical r test"
   ]
  },
  {
   "cell_type": "markdown",
   "metadata": {},
   "source": [
    "A good way is to compare the correlation coefficient to a threshold value called critical r. From the definitions, critical r is the value of the correlation coefficient at which you can rule out chance as an explanation for the relationship in the sample."
   ]
  },
  {
   "cell_type": "markdown",
   "metadata": {},
   "source": [
    "To calculate the critical r, we first get the number of wells and degrees of freedom."
   ]
  },
  {
   "cell_type": "code",
   "execution_count": 13,
   "metadata": {},
   "outputs": [
    {
     "name": "stdout",
     "output_type": "stream",
     "text": [
      "nunber of wells = 21\n",
      "df = 19\n"
     ]
    }
   ],
   "source": [
    "nwells, nfeatures = data.shape\n",
    "print ('nunber of wells =', nwells)\n",
    "print ('df =' , nwells-2)"
   ]
  },
  {
   "cell_type": "markdown",
   "metadata": {},
   "source": [
    "Further, we need to calculate the critical t (or inverse t) for the specific significance level (95%) and degrees of freedom we are considering. This can be found in Student's t distribution tables, but fortunately we can also calculate it using the statistical library from Scipy."
   ]
  },
  {
   "cell_type": "markdown",
   "metadata": {},
   "source": [
    "With alpha = 0.05 and df = (21 - 2) = 19, we get:"
   ]
  },
  {
   "cell_type": "code",
   "execution_count": 14,
   "metadata": {
    "collapsed": true
   },
   "outputs": [],
   "source": [
    "t = sp.stats.t.isf(0.025, nwells-2) # required input is alpha/2"
   ]
  },
  {
   "cell_type": "markdown",
   "metadata": {},
   "source": [
    "which corresponds to the value we would get from <a href=\"http://growingknowing.com/GKStatsBookStudentTTable.html\"> the Student's t distribution tables</a> at row 19 (df = 19), column 3 (2-tail alpha = 0.05).\n",
    "\n",
    "With this value of t we calculate the critical r as (<a href=\"http://brownmath.com/stat/correl.htm#DecisionPoints\">formula from Brown</a>):\n",
    "\n",
    "\n",
    "r = t/√(df+t^2)\n",
    "\n",
    "(Eq. 1) "
   ]
  },
  {
   "cell_type": "code",
   "execution_count": 15,
   "metadata": {},
   "outputs": [
    {
     "name": "stdout",
     "output_type": "stream",
     "text": [
      "0.4328575563165211\n"
     ]
    }
   ],
   "source": [
    "r_crit = t/np.sqrt((nwells-2)+ np.power(t,2))\n",
    "print (r_crit)"
   ]
  },
  {
   "cell_type": "markdown",
   "metadata": {},
   "source": [
    "What is this number telling us?\n",
    "\n",
    "It tells us that with 21 wells (19 degrees of freedom) and 5% as the maximum chance of being wrong we are willing to take (confidence level 95%),  we need a value of correlation coefficient of at least 0.43 to rule out chance as an explanation for a specific correlation.\n",
    "\n",
    "Remember that the test must be done separately by comparing r with 0.43 for each of the independent variables we want to use to predict production."
   ]
  },
  {
   "cell_type": "markdown",
   "metadata": {},
   "source": [
    "And now we can turn the above in a convenient function, and then use it to test all correlation coefficients against it."
   ]
  },
  {
   "cell_type": "code",
   "execution_count": 16,
   "metadata": {
    "collapsed": true
   },
   "outputs": [],
   "source": [
    "def r_crit(nwells, alpha):\n",
    "    t = sp.stats.t.isf(alpha/2, nwells-2)\n",
    "    return t/np.sqrt((nwells-2)+ np.power(t,2)) "
   ]
  },
  {
   "cell_type": "code",
   "execution_count": 17,
   "metadata": {},
   "outputs": [
    {
     "name": "stdout",
     "output_type": "stream",
     "text": [
      "0.4328575563165211\n"
     ]
    }
   ],
   "source": [
    "rc = r_crit(21,0.05)\n",
    "print (rc)"
   ]
  },
  {
   "cell_type": "markdown",
   "metadata": {},
   "source": [
    "Below are the correlation coefficients. We are interested in the last row in this case.\n",
    "For each of those correlation coefficients, if its absolute value is greater than the critical r, then there is nonzero correlation in the population between the specific independent variable and production, in same direction (sign) as the sample."
   ]
  },
  {
   "cell_type": "code",
   "execution_count": 18,
   "metadata": {},
   "outputs": [
    {
     "data": {
      "text/html": [
       "<div>\n",
       "<style scoped>\n",
       "    .dataframe tbody tr th:only-of-type {\n",
       "        vertical-align: middle;\n",
       "    }\n",
       "\n",
       "    .dataframe tbody tr th {\n",
       "        vertical-align: top;\n",
       "    }\n",
       "\n",
       "    .dataframe thead th {\n",
       "        text-align: right;\n",
       "    }\n",
       "</style>\n",
       "<table border=\"1\" class=\"dataframe\">\n",
       "  <thead>\n",
       "    <tr style=\"text-align: right;\">\n",
       "      <th></th>\n",
       "      <th>Gross pay</th>\n",
       "      <th>Phi-h</th>\n",
       "      <th>Position</th>\n",
       "      <th>Pressure</th>\n",
       "      <th>Random 1</th>\n",
       "      <th>Random 2</th>\n",
       "      <th>Gross pay transform</th>\n",
       "      <th>Production</th>\n",
       "    </tr>\n",
       "  </thead>\n",
       "  <tbody>\n",
       "    <tr>\n",
       "      <th>Gross pay</th>\n",
       "      <td>1.000000</td>\n",
       "      <td>0.875325</td>\n",
       "      <td>-0.028835</td>\n",
       "      <td>0.136672</td>\n",
       "      <td>0.188988</td>\n",
       "      <td>0.187135</td>\n",
       "      <td>0.980519</td>\n",
       "      <td>0.868831</td>\n",
       "    </tr>\n",
       "    <tr>\n",
       "      <th>Phi-h</th>\n",
       "      <td>0.875325</td>\n",
       "      <td>1.000000</td>\n",
       "      <td>-0.142863</td>\n",
       "      <td>0.050595</td>\n",
       "      <td>0.193550</td>\n",
       "      <td>0.367122</td>\n",
       "      <td>0.828571</td>\n",
       "      <td>0.861039</td>\n",
       "    </tr>\n",
       "    <tr>\n",
       "      <th>Position</th>\n",
       "      <td>-0.028835</td>\n",
       "      <td>-0.142863</td>\n",
       "      <td>1.000000</td>\n",
       "      <td>-0.017241</td>\n",
       "      <td>0.013154</td>\n",
       "      <td>-0.501658</td>\n",
       "      <td>-0.015073</td>\n",
       "      <td>-0.328323</td>\n",
       "    </tr>\n",
       "    <tr>\n",
       "      <th>Pressure</th>\n",
       "      <td>0.136672</td>\n",
       "      <td>0.050595</td>\n",
       "      <td>-0.017241</td>\n",
       "      <td>1.000000</td>\n",
       "      <td>-0.127601</td>\n",
       "      <td>0.117364</td>\n",
       "      <td>0.191866</td>\n",
       "      <td>0.384390</td>\n",
       "    </tr>\n",
       "    <tr>\n",
       "      <th>Random 1</th>\n",
       "      <td>0.188988</td>\n",
       "      <td>0.193550</td>\n",
       "      <td>0.013154</td>\n",
       "      <td>-0.127601</td>\n",
       "      <td>1.000000</td>\n",
       "      <td>-0.069449</td>\n",
       "      <td>0.207887</td>\n",
       "      <td>0.117303</td>\n",
       "    </tr>\n",
       "    <tr>\n",
       "      <th>Random 2</th>\n",
       "      <td>0.187135</td>\n",
       "      <td>0.367122</td>\n",
       "      <td>-0.501658</td>\n",
       "      <td>0.117364</td>\n",
       "      <td>-0.069449</td>\n",
       "      <td>1.000000</td>\n",
       "      <td>0.165692</td>\n",
       "      <td>0.331384</td>\n",
       "    </tr>\n",
       "    <tr>\n",
       "      <th>Gross pay transform</th>\n",
       "      <td>0.980519</td>\n",
       "      <td>0.828571</td>\n",
       "      <td>-0.015073</td>\n",
       "      <td>0.191866</td>\n",
       "      <td>0.207887</td>\n",
       "      <td>0.165692</td>\n",
       "      <td>1.000000</td>\n",
       "      <td>0.854545</td>\n",
       "    </tr>\n",
       "    <tr>\n",
       "      <th>Production</th>\n",
       "      <td>0.868831</td>\n",
       "      <td>0.861039</td>\n",
       "      <td>-0.328323</td>\n",
       "      <td>0.384390</td>\n",
       "      <td>0.117303</td>\n",
       "      <td>0.331384</td>\n",
       "      <td>0.854545</td>\n",
       "      <td>1.000000</td>\n",
       "    </tr>\n",
       "  </tbody>\n",
       "</table>\n",
       "</div>"
      ],
      "text/plain": [
       "                     Gross pay     Phi-h  Position  Pressure  Random 1  \\\n",
       "Gross pay             1.000000  0.875325 -0.028835  0.136672  0.188988   \n",
       "Phi-h                 0.875325  1.000000 -0.142863  0.050595  0.193550   \n",
       "Position             -0.028835 -0.142863  1.000000 -0.017241  0.013154   \n",
       "Pressure              0.136672  0.050595 -0.017241  1.000000 -0.127601   \n",
       "Random 1              0.188988  0.193550  0.013154 -0.127601  1.000000   \n",
       "Random 2              0.187135  0.367122 -0.501658  0.117364 -0.069449   \n",
       "Gross pay transform   0.980519  0.828571 -0.015073  0.191866  0.207887   \n",
       "Production            0.868831  0.861039 -0.328323  0.384390  0.117303   \n",
       "\n",
       "                     Random 2  Gross pay transform  Production  \n",
       "Gross pay            0.187135             0.980519    0.868831  \n",
       "Phi-h                0.367122             0.828571    0.861039  \n",
       "Position            -0.501658            -0.015073   -0.328323  \n",
       "Pressure             0.117364             0.191866    0.384390  \n",
       "Random 1            -0.069449             0.207887    0.117303  \n",
       "Random 2             1.000000             0.165692    0.331384  \n",
       "Gross pay transform  0.165692             1.000000    0.854545  \n",
       "Production           0.331384             0.854545    1.000000  "
      ]
     },
     "execution_count": 18,
     "metadata": {},
     "output_type": "execute_result"
    }
   ],
   "source": [
    "data.corr('spearman')"
   ]
  },
  {
   "cell_type": "markdown",
   "metadata": {},
   "source": [
    "Again, we can create a mask to highlight directly in the heatmap the coefficients that fail the test."
   ]
  },
  {
   "cell_type": "code",
   "execution_count": 19,
   "metadata": {},
   "outputs": [
    {
     "data": {
      "text/plain": [
       "[(2, 0), (3, 0), (4, 0), (5, 0)]"
      ]
     },
     "execution_count": 19,
     "metadata": {},
     "output_type": "execute_result"
    }
   ],
   "source": [
    "a = np.abs(data.corr(method = 'spearman')) # absolute values of pair-wise spearman correlation coefficients\n",
    "\n",
    "mask3 = np.zeros_like(data.corr(method = 'spearman') , dtype=np.bool) # Create a mask where data.corr() is False\n",
    "mask3[np.tril_indices_from(mask3)] = True                              # Set mask's upper triangle to True\n",
    "mask3 = np.isfinite(a[(a<rc)&mask3])                               # Turn back to False if passing critical r test\n",
    "\n",
    "mask3 = np.flipud(mask3)               # Cell indexing in sns.heatmap is 0 based with origin at bottom left\n",
    "mask3 = zip(*np.where(mask3 == True))  # Create list of tuples from mask to add patches to heatmap\n",
    "\n",
    "y_mask = [(i) for i in mask3 if i[1] == 0]\n",
    "y_mask"
   ]
  },
  {
   "cell_type": "code",
   "execution_count": 20,
   "metadata": {},
   "outputs": [
    {
     "data": {
      "image/png": "[encoded data removed]",
      "text/plain": [
       "<Figure size 432x288 with 2 Axes>"
      ]
     },
     "metadata": {},
     "output_type": "display_data"
    }
   ],
   "source": [
    "fig = plt.figure()\n",
    "sns.set(style=\"white\")\n",
    "\n",
    "# Generate a mask for the upper triangle\n",
    "mask4 = np.zeros_like(data.corr(method = 'spearman') , dtype=np.bool)\n",
    "mask4[np.triu_indices_from(mask4)] = True\n",
    "\n",
    "# Draw the heatmap with the mask and correct aspect ratio\n",
    "h = sns.heatmap(data.corr(method = 'spearman') ,annot=True,  mask=mask4, cmap='PRGn', vmax=.3, square=True)\n",
    "\n",
    "# make labels nice and eliminate diagonbal ones\n",
    "plt.xticks(rotation=75)\n",
    "xlabels = [item.get_text() for item in h.get_xticklabels()]\n",
    "xlabels[-1] = ''\n",
    "h.set_xticklabels(xlabels)\n",
    "ylabels = [item1.get_text() for item1 in h.get_yticklabels()]\n",
    "ylabels[-1] = ''\n",
    "h.set_yticklabels(ylabels)\n",
    "\n",
    "# add patches\n",
    "for tp in y_mask:\n",
    "    h.add_patch(Rectangle(tp, 1, 1, fill=True, color = 'orange')) \n",
    "    \n",
    "fig.savefig('matrix.png', dpi=400, bbox_inches='tight', pad_inches=0.4)"
   ]
  },
  {
   "cell_type": "markdown",
   "metadata": {},
   "source": [
    "And here is a printed summary of the test results:"
   ]
  },
  {
   "cell_type": "code",
   "execution_count": 21,
   "metadata": {},
   "outputs": [
    {
     "data": {
      "text/html": [
       "<div>\n",
       "<style scoped>\n",
       "    .dataframe tbody tr th:only-of-type {\n",
       "        vertical-align: middle;\n",
       "    }\n",
       "\n",
       "    .dataframe tbody tr th {\n",
       "        vertical-align: top;\n",
       "    }\n",
       "\n",
       "    .dataframe thead th {\n",
       "        text-align: right;\n",
       "    }\n",
       "</style>\n",
       "<table border=\"1\" class=\"dataframe\">\n",
       "  <thead>\n",
       "    <tr style=\"text-align: right;\">\n",
       "      <th></th>\n",
       "      <th>Gross pay</th>\n",
       "      <th>Phi-h</th>\n",
       "      <th>Position</th>\n",
       "      <th>Pressure</th>\n",
       "      <th>Random 1</th>\n",
       "      <th>Random 2</th>\n",
       "    </tr>\n",
       "  </thead>\n",
       "  <tbody>\n",
       "    <tr>\n",
       "      <th>Production</th>\n",
       "      <td>True</td>\n",
       "      <td>True</td>\n",
       "      <td>False</td>\n",
       "      <td>False</td>\n",
       "      <td>False</td>\n",
       "      <td>False</td>\n",
       "    </tr>\n",
       "  </tbody>\n",
       "</table>\n",
       "</div>"
      ],
      "text/plain": [
       "            Gross pay  Phi-h  Position  Pressure  Random 1  Random 2\n",
       "Production       True   True     False     False     False     False"
      ]
     },
     "execution_count": 21,
     "metadata": {},
     "output_type": "execute_result"
    }
   ],
   "source": [
    "r_crit_test = pd.DataFrame(data.corr(method = 'spearman').loc['Production'][:-2] >= rc).T\n",
    "r_crit_test"
   ]
  },
  {
   "cell_type": "markdown",
   "metadata": {},
   "source": [
    "So we see that Position, Pressure, Random 1, and Random 2 fail the critical test.\n",
    "How do we use this knowledge?"
   ]
  },
  {
   "cell_type": "markdown",
   "metadata": {},
   "source": [
    "The answer is that we again combine the statistical result with our domain knowledge. As Lee Hunt points out, our prior knowledge of production suggests it may be a multi-variate problem, and that pressure and position should matter in a multi-variate prediction in spite of their critical r test failure.\n",
    "He quotes Fisher (1935, The design of experiments) to reinforce the idea we should use all the information at our disposal, if there is a reasonable justification in terms of physical or causal relationship, which in the case of position and pressure we do have. "
   ]
  },
  {
   "cell_type": "markdown",
   "metadata": {},
   "source": [
    "For Random 1 and Random 2 things are different. If you've read Hunt's paper you would know these are randomly generated variables, with no relationship to production. If these were real measurements, the apparent, weak correlation, is just the luck of the draw.\n",
    "\n",
    "But let's again for a minute pretend we do not know these are mad-up variables. How could we decide whether to use them or not in our multi-variate prediction?"
   ]
  },
  {
   "cell_type": "markdown",
   "metadata": {},
   "source": [
    "#### Distance correlation"
   ]
  },
  {
   "cell_type": "markdown",
   "metadata": {},
   "source": [
    "Euclidean distance example from:\n",
    "https://stackoverflow.com/a/29731899"
   ]
  },
  {
   "cell_type": "code",
   "execution_count": 22,
   "metadata": {},
   "outputs": [
    {
     "data": {
      "text/html": [
       "<div>\n",
       "<style scoped>\n",
       "    .dataframe tbody tr th:only-of-type {\n",
       "        vertical-align: middle;\n",
       "    }\n",
       "\n",
       "    .dataframe tbody tr th {\n",
       "        vertical-align: top;\n",
       "    }\n",
       "\n",
       "    .dataframe thead th {\n",
       "        text-align: right;\n",
       "    }\n",
       "</style>\n",
       "<table border=\"1\" class=\"dataframe\">\n",
       "  <thead>\n",
       "    <tr style=\"text-align: right;\">\n",
       "      <th></th>\n",
       "      <th>Gross pay</th>\n",
       "      <th>Phi-h</th>\n",
       "      <th>Position</th>\n",
       "      <th>Pressure</th>\n",
       "      <th>Random 1</th>\n",
       "      <th>Random 2</th>\n",
       "      <th>Gross pay transform</th>\n",
       "      <th>Production</th>\n",
       "    </tr>\n",
       "  </thead>\n",
       "  <tbody>\n",
       "    <tr>\n",
       "      <th>Gross pay</th>\n",
       "      <td>0</td>\n",
       "      <td>324</td>\n",
       "      <td>45</td>\n",
       "      <td>37</td>\n",
       "      <td>34</td>\n",
       "      <td>1322</td>\n",
       "      <td>31</td>\n",
       "      <td>118</td>\n",
       "    </tr>\n",
       "    <tr>\n",
       "      <th>Phi-h</th>\n",
       "      <td>324</td>\n",
       "      <td>0</td>\n",
       "      <td>367</td>\n",
       "      <td>317</td>\n",
       "      <td>333</td>\n",
       "      <td>1059</td>\n",
       "      <td>299</td>\n",
       "      <td>219</td>\n",
       "    </tr>\n",
       "    <tr>\n",
       "      <th>Position</th>\n",
       "      <td>45</td>\n",
       "      <td>367</td>\n",
       "      <td>0</td>\n",
       "      <td>62</td>\n",
       "      <td>47</td>\n",
       "      <td>1359</td>\n",
       "      <td>73</td>\n",
       "      <td>160</td>\n",
       "    </tr>\n",
       "    <tr>\n",
       "      <th>Pressure</th>\n",
       "      <td>37</td>\n",
       "      <td>317</td>\n",
       "      <td>62</td>\n",
       "      <td>0</td>\n",
       "      <td>40</td>\n",
       "      <td>1298</td>\n",
       "      <td>32</td>\n",
       "      <td>104</td>\n",
       "    </tr>\n",
       "    <tr>\n",
       "      <th>Random 1</th>\n",
       "      <td>34</td>\n",
       "      <td>333</td>\n",
       "      <td>47</td>\n",
       "      <td>40</td>\n",
       "      <td>0</td>\n",
       "      <td>1322</td>\n",
       "      <td>45</td>\n",
       "      <td>127</td>\n",
       "    </tr>\n",
       "    <tr>\n",
       "      <th>Random 2</th>\n",
       "      <td>1322</td>\n",
       "      <td>1059</td>\n",
       "      <td>1359</td>\n",
       "      <td>1298</td>\n",
       "      <td>1322</td>\n",
       "      <td>0</td>\n",
       "      <td>1292</td>\n",
       "      <td>1212</td>\n",
       "    </tr>\n",
       "    <tr>\n",
       "      <th>Gross pay transform</th>\n",
       "      <td>31</td>\n",
       "      <td>299</td>\n",
       "      <td>73</td>\n",
       "      <td>32</td>\n",
       "      <td>45</td>\n",
       "      <td>1292</td>\n",
       "      <td>0</td>\n",
       "      <td>91</td>\n",
       "    </tr>\n",
       "    <tr>\n",
       "      <th>Production</th>\n",
       "      <td>118</td>\n",
       "      <td>219</td>\n",
       "      <td>160</td>\n",
       "      <td>104</td>\n",
       "      <td>127</td>\n",
       "      <td>1212</td>\n",
       "      <td>91</td>\n",
       "      <td>0</td>\n",
       "    </tr>\n",
       "  </tbody>\n",
       "</table>\n",
       "</div>"
      ],
      "text/plain": [
       "                     Gross pay  Phi-h  Position  Pressure  Random 1  Random 2  \\\n",
       "Gross pay                    0    324        45        37        34      1322   \n",
       "Phi-h                      324      0       367       317       333      1059   \n",
       "Position                    45    367         0        62        47      1359   \n",
       "Pressure                    37    317        62         0        40      1298   \n",
       "Random 1                    34    333        47        40         0      1322   \n",
       "Random 2                  1322   1059      1359      1298      1322         0   \n",
       "Gross pay transform         31    299        73        32        45      1292   \n",
       "Production                 118    219       160       104       127      1212   \n",
       "\n",
       "                     Gross pay transform  Production  \n",
       "Gross pay                             31         118  \n",
       "Phi-h                                299         219  \n",
       "Position                              73         160  \n",
       "Pressure                              32         104  \n",
       "Random 1                              45         127  \n",
       "Random 2                            1292        1212  \n",
       "Gross pay transform                    0          91  \n",
       "Production                            91           0  "
      ]
     },
     "execution_count": 22,
     "metadata": {},
     "output_type": "execute_result"
    }
   ],
   "source": [
    "distance = lambda column1, column2: pd.np.linalg.norm(column1 - column2)\n",
    "\n",
    "result = data.apply(lambda col1: data.apply(lambda col2: distance(col1, col2)))\n",
    "\n",
    "result = result.astype(int)\n",
    "result"
   ]
  },
  {
   "cell_type": "markdown",
   "metadata": {},
   "source": [
    "To use same **distance correlaton** as [Thomas'](https://github.com/tspeidel/predict/blob/master/geoconference_2018.md):\n",
    "    \n",
    "check this moadule: https://dcor.readthedocs.io/en/latest/#a-distance-correlation"
   ]
  },
  {
   "cell_type": "code",
   "execution_count": 23,
   "metadata": {},
   "outputs": [
    {
     "name": "stderr",
     "output_type": "stream",
     "text": [
      "/anaconda2/envs/py36/lib/python3.6/site-packages/dcor/_utils.py:88: FutureWarning: Conversion of the second argument of issubdtype from `float` to `np.floating` is deprecated. In future, it will be treated as `np.float64 == np.dtype(float).type`.\n",
      "  return ((np.issubdtype(x.dtype, float) and\n",
      "/anaconda2/envs/py36/lib/python3.6/site-packages/dcor/_utils.py:90: FutureWarning: Conversion of the second argument of issubdtype from `int` to `np.signedinteger` is deprecated. In future, it will be treated as `np.int64 == np.dtype(int).type`.\n",
      "  (np.issubdtype(x.dtype, int) and\n"
     ]
    },
    {
     "data": {
      "text/html": [
       "<div>\n",
       "<style scoped>\n",
       "    .dataframe tbody tr th:only-of-type {\n",
       "        vertical-align: middle;\n",
       "    }\n",
       "\n",
       "    .dataframe tbody tr th {\n",
       "        vertical-align: top;\n",
       "    }\n",
       "\n",
       "    .dataframe thead th {\n",
       "        text-align: right;\n",
       "    }\n",
       "</style>\n",
       "<table border=\"1\" class=\"dataframe\">\n",
       "  <thead>\n",
       "    <tr style=\"text-align: right;\">\n",
       "      <th></th>\n",
       "      <th>Gross pay</th>\n",
       "      <th>Phi-h</th>\n",
       "      <th>Position</th>\n",
       "      <th>Pressure</th>\n",
       "      <th>Random 1</th>\n",
       "      <th>Random 2</th>\n",
       "      <th>Gross pay transform</th>\n",
       "      <th>Production</th>\n",
       "    </tr>\n",
       "  </thead>\n",
       "  <tbody>\n",
       "    <tr>\n",
       "      <th>Gross pay</th>\n",
       "      <td>1.00</td>\n",
       "      <td>0.89</td>\n",
       "      <td>0.28</td>\n",
       "      <td>0.34</td>\n",
       "      <td>0.32</td>\n",
       "      <td>0.45</td>\n",
       "      <td>0.97</td>\n",
       "      <td>0.91</td>\n",
       "    </tr>\n",
       "    <tr>\n",
       "      <th>Phi-h</th>\n",
       "      <td>0.89</td>\n",
       "      <td>1.00</td>\n",
       "      <td>0.32</td>\n",
       "      <td>0.27</td>\n",
       "      <td>0.35</td>\n",
       "      <td>0.54</td>\n",
       "      <td>0.83</td>\n",
       "      <td>0.88</td>\n",
       "    </tr>\n",
       "    <tr>\n",
       "      <th>Position</th>\n",
       "      <td>0.28</td>\n",
       "      <td>0.32</td>\n",
       "      <td>1.00</td>\n",
       "      <td>0.22</td>\n",
       "      <td>0.32</td>\n",
       "      <td>0.54</td>\n",
       "      <td>0.23</td>\n",
       "      <td>0.45</td>\n",
       "    </tr>\n",
       "    <tr>\n",
       "      <th>Pressure</th>\n",
       "      <td>0.34</td>\n",
       "      <td>0.27</td>\n",
       "      <td>0.22</td>\n",
       "      <td>1.00</td>\n",
       "      <td>0.27</td>\n",
       "      <td>0.31</td>\n",
       "      <td>0.38</td>\n",
       "      <td>0.43</td>\n",
       "    </tr>\n",
       "    <tr>\n",
       "      <th>Random 1</th>\n",
       "      <td>0.32</td>\n",
       "      <td>0.35</td>\n",
       "      <td>0.32</td>\n",
       "      <td>0.27</td>\n",
       "      <td>1.00</td>\n",
       "      <td>0.23</td>\n",
       "      <td>0.35</td>\n",
       "      <td>0.29</td>\n",
       "    </tr>\n",
       "    <tr>\n",
       "      <th>Random 2</th>\n",
       "      <td>0.45</td>\n",
       "      <td>0.54</td>\n",
       "      <td>0.54</td>\n",
       "      <td>0.31</td>\n",
       "      <td>0.23</td>\n",
       "      <td>1.00</td>\n",
       "      <td>0.39</td>\n",
       "      <td>0.54</td>\n",
       "    </tr>\n",
       "    <tr>\n",
       "      <th>Gross pay transform</th>\n",
       "      <td>0.97</td>\n",
       "      <td>0.83</td>\n",
       "      <td>0.23</td>\n",
       "      <td>0.38</td>\n",
       "      <td>0.35</td>\n",
       "      <td>0.39</td>\n",
       "      <td>1.00</td>\n",
       "      <td>0.84</td>\n",
       "    </tr>\n",
       "    <tr>\n",
       "      <th>Production</th>\n",
       "      <td>0.91</td>\n",
       "      <td>0.88</td>\n",
       "      <td>0.45</td>\n",
       "      <td>0.43</td>\n",
       "      <td>0.29</td>\n",
       "      <td>0.54</td>\n",
       "      <td>0.84</td>\n",
       "      <td>1.00</td>\n",
       "    </tr>\n",
       "  </tbody>\n",
       "</table>\n",
       "</div>"
      ],
      "text/plain": [
       "                     Gross pay  Phi-h  Position  Pressure  Random 1  Random 2  \\\n",
       "Gross pay                 1.00   0.89      0.28      0.34      0.32      0.45   \n",
       "Phi-h                     0.89   1.00      0.32      0.27      0.35      0.54   \n",
       "Position                  0.28   0.32      1.00      0.22      0.32      0.54   \n",
       "Pressure                  0.34   0.27      0.22      1.00      0.27      0.31   \n",
       "Random 1                  0.32   0.35      0.32      0.27      1.00      0.23   \n",
       "Random 2                  0.45   0.54      0.54      0.31      0.23      1.00   \n",
       "Gross pay transform       0.97   0.83      0.23      0.38      0.35      0.39   \n",
       "Production                0.91   0.88      0.45      0.43      0.29      0.54   \n",
       "\n",
       "                     Gross pay transform  Production  \n",
       "Gross pay                           0.97        0.91  \n",
       "Phi-h                               0.83        0.88  \n",
       "Position                            0.23        0.45  \n",
       "Pressure                            0.38        0.43  \n",
       "Random 1                            0.35        0.29  \n",
       "Random 2                            0.39        0.54  \n",
       "Gross pay transform                 1.00        0.84  \n",
       "Production                          0.84        1.00  "
      ]
     },
     "execution_count": 23,
     "metadata": {},
     "output_type": "execute_result"
    }
   ],
   "source": [
    "import dcor\n",
    "\n",
    "distcorr = lambda column1, column2: dcor.distance_correlation(column1, column2)\n",
    "\n",
    "rslt = data.apply(lambda col1: data.apply(lambda col2: distcorr(col1, col2)))\n",
    "\n",
    "pd.options.display.float_format = '{:,.2f}'.format\n",
    "rslt"
   ]
  }
 ],
 "metadata": {
  "anaconda-cloud": {},
  "kernelspec": {
   "display_name": "Python [conda env:py36]",
   "language": "python",
   "name": "conda-env-py36-py"
  },
  "language_info": {
   "codemirror_mode": {
    "name": "ipython",
    "version": 3
   },
   "file_extension": ".py",
   "mimetype": "text/x-python",
   "name": "python",
   "nbconvert_exporter": "python",
   "pygments_lexer": "ipython3",
   "version": "3.6.5"
  }
 },
 "nbformat": 4,
 "nbformat_minor": 2
}
